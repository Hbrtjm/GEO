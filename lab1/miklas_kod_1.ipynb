{
 "cells": [
  {
   "cell_type": "code",
   "execution_count": 20,
   "id": "4e8004f5",
   "metadata": {},
   "outputs": [],
   "source": [
    "# Podstawowe biblioteki do wykonania zadania\n",
    "from random import uniform,choice\n",
    "from matplotlib import pyplot as plt\n",
    "from time import time\n",
    "import numpy as np\n",
    "from json import dumps"
   ]
  },
  {
   "cell_type": "markdown",
   "id": "f6447f20",
   "metadata": {},
   "source": [
    "Metoda_1._Generowanie_10^5_losowych_punktów_na_przedziale_<-10^3,10^3>_"
   ]
  },
  {
   "cell_type": "code",
   "execution_count": 3,
   "id": "c99f09fc-8376-48ef-96aa-21965627d940",
   "metadata": {},
   "outputs": [],
   "source": [
    "def First_generator(n):\n",
    "    return [ (uniform(-10**3,10**3),uniform(-10**3,10**3)) for _ in range(n) ]"
   ]
  },
  {
   "cell_type": "code",
   "execution_count": null,
   "id": "88b07a37",
   "metadata": {},
   "outputs": [],
   "source": [
    "N = 10**5\n",
    "points1 = First_generator(N)\n",
    "# Zmniejszona wartość wielkości, dla lepszej czytelności punktów (widać, że jes to jednolity rozkład, nie posiada widocznych skupisk)\n",
    "plt.figure(figsize=(5,5))\n",
    "plt.scatter(*zip(*points1),s=[0.1 for _ in range(N)])\n",
    "plt.show()"
   ]
  },
  {
   "cell_type": "markdown",
   "id": "6216ee59",
   "metadata": {},
   "source": [
    "Medota 2. Generowanie 10^5 losowych punktów na przedziale <-10^14,10^14> "
   ]
  },
  {
   "cell_type": "code",
   "execution_count": 5,
   "id": "5bbe3605",
   "metadata": {},
   "outputs": [],
   "source": [
    "def Second_generator(n):\n",
    "    return [ (uniform(-10**14,10**14),uniform(-10**14,10**14)) for _ in range(n)  ]"
   ]
  },
  {
   "cell_type": "code",
   "execution_count": null,
   "id": "3242ac40",
   "metadata": {},
   "outputs": [],
   "source": [
    "N = 10**5\n",
    "points2 = Second_generator(N)\n",
    "# Zmniejszona wartość wielkości, dla lepszej czytelności punktów (widać, że jes to jednolity rozkład, nie posiada widocznych skupisk)\n",
    "plt.figure(figsize=(5,5))\n",
    "plt.scatter(*zip(*points2),s=[0.01 for _ in range(N)])\n",
    "plt.show()"
   ]
  },
  {
   "cell_type": "markdown",
   "id": "1179dfa9",
   "metadata": {},
   "source": [
    "Medota 3. Generowanie 10^5 losowych punktów na przedziale <-10^14,10^14> "
   ]
  },
  {
   "cell_type": "code",
   "execution_count": 7,
   "id": "b57f8e40",
   "metadata": {},
   "outputs": [],
   "source": [
    "def Third_generator(n):\n",
    "    result = [ ]\n",
    "    for _ in range(n):\n",
    "        # x = uniform(-100,100)\n",
    "        # result.append((x,uniform(-sqrt(100**2 - x**2),sqrt(100*2 - x**2)))\n",
    "        theta = uniform(0,2*np.pi)\n",
    "        R = 100\n",
    "        result.append((R*np.cos(theta),R*np.sin(theta)))\n",
    "    return result"
   ]
  },
  {
   "cell_type": "code",
   "execution_count": null,
   "id": "d1e6ab09",
   "metadata": {},
   "outputs": [],
   "source": [
    "N = 10**3\n",
    "points3 = Third_generator(N)\n",
    "plt.figure(figsize=(5,5))\n",
    "plt.scatter(*zip(*points3),s=[2 for _ in range(N)])\n",
    "plt.show()"
   ]
  },
  {
   "cell_type": "markdown",
   "id": "04752f17",
   "metadata": {},
   "source": [
    "Medota 4. Generowanie 10^5 losowych punktów na przedziale <-10^14,10^14> "
   ]
  },
  {
   "cell_type": "code",
   "execution_count": 9,
   "id": "023e2ebb",
   "metadata": {},
   "outputs": [],
   "source": [
    "def Fourth_generator(n):\n",
    "    result = []\n",
    "    for _ in range(n):\n",
    "        #t = uniform(-500,500)\n",
    "        #result.append((t*2,t*0.1))\n",
    "        x = uniform(-1000,1000)\n",
    "        result.append((x,0.05*x+0.05))\n",
    "    return result"
   ]
  },
  {
   "cell_type": "code",
   "execution_count": null,
   "id": "0ed81c33",
   "metadata": {},
   "outputs": [],
   "source": [
    "N = 10**3\n",
    "points4 = Fourth_generator(N)\n",
    "plt.figure(figsize=(5,5))\n",
    "plt.scatter(*zip(*points4),s=[4 for _ in range(N)])\n",
    "plt.show()"
   ]
  },
  {
   "cell_type": "markdown",
   "id": "6515e6ee",
   "metadata": {},
   "source": [
    "Własny wyznacznik 1."
   ]
  },
  {
   "cell_type": "code",
   "execution_count": 11,
   "id": "bd2fc130",
   "metadata": {},
   "outputs": [],
   "source": [
    "def det3x3(a,b,c):\n",
    "    return (b[0]*c[1]-c[0]*b[1])-(a[0]*c[1]-a[1]*c[0])+(a[0]*b[1]-b[0]*a[1])"
   ]
  },
  {
   "cell_type": "code",
   "execution_count": 12,
   "id": "129c1d29",
   "metadata": {},
   "outputs": [],
   "source": [
    "def det2x2(a,b,c):\n",
    "    return ((a[0]-c[0])*(b[1]-c[1]))-((b[0]-c[0])*(a[1]-c[1]))"
   ]
  },
  {
   "cell_type": "code",
   "execution_count": 13,
   "id": "3624d81c",
   "metadata": {},
   "outputs": [],
   "source": [
    "def make_matrix_3x3(a,b,c):\n",
    "    return np.matrix([[a[0],a[1],1],[b[0],b[1],1],[c[0],c[1],1]])\n",
    "def det_np_3x3(a,b,c):\n",
    "    return np.linalg.det(make_matrix_3x3(a,b,c))"
   ]
  },
  {
   "cell_type": "code",
   "execution_count": 14,
   "id": "a8287cad",
   "metadata": {},
   "outputs": [],
   "source": [
    "def make_matrix_2x2(a,b,c):\n",
    "    return np.matrix([[a[0]-c[0],a[1]-c[1]],[b[0]-c[0],b[1]-c[1]]])\n",
    "def det_np_2x2(a,b,c):\n",
    "    return np.linalg.det(make_matrix_2x2(a,b,c))"
   ]
  },
  {
   "cell_type": "code",
   "execution_count": 18,
   "id": "589d513b",
   "metadata": {},
   "outputs": [],
   "source": [
    "# ======================================= IMPORTANT =======================================\n",
    "\n",
    "WRITE_TO_FILES = False\n",
    "\n",
    "#  ================ Change this to False to avoid cluttering the directory ================"
   ]
  },
  {
   "cell_type": "code",
   "execution_count": null,
   "id": "18137a5f",
   "metadata": {},
   "outputs": [],
   "source": []
  },
  {
   "cell_type": "markdown",
   "id": "91334862",
   "metadata": {},
   "source": [
    "Poniżej znajduje się \"serce\" programu, funkcja calculate liczy pozycje punktów, nadaje numery kolorów, korzysta z dekodowania kolorów i rysuje je na wykresie.\n",
    "Funkcje run_all_preprocessed i run_all_functions generują wyniki dla każdego przypadku"
   ]
  },
  {
   "cell_type": "code",
   "execution_count": null,
   "id": "630e83a9",
   "metadata": {
    "scrolled": true
   },
   "outputs": [],
   "source": [
    "SIZES = [4,1,0.1]\n",
    "\n",
    "def decode_colors(orient):\n",
    "    cols = [ (0,0,1), (0,1,0) , (1,0,0) ]\n",
    "    res = []\n",
    "    for i in range(len(orient)):\n",
    "        res.append(cols[orient[i]])\n",
    "    return res\n",
    "\n",
    "def calculate(points=[],n=100,epsilon=0,a=(-1.0,0.0),b=(1.0,0.1),detFun=det3x3,dot_size=1,show_line = True,save_to_image=False,name_params=(\"Name\",\"float32\",\"det1\")):\n",
    "    states = [0,0,0]\n",
    "    generator_name,type_name,det_name = name_params\n",
    "    orient = [ None for _ in range(n) ]\n",
    "    for i in range(n):\n",
    "        orient[i] = orientation(points[i],a,b,epsilon,detFun)\n",
    "        states[orient[i]] += 1\n",
    "    z = zip(*points)\n",
    "    decoded = decode_colors(orient)\n",
    "    plt.figure(figsize=(5,5))\n",
    "    plt.scatter(*z,c=decoded,s=[SIZES[dot_size] for _ in range(n)])\n",
    "    if show_line: \n",
    "        plt.axline(a, b, markersize=2)\n",
    "    if save_to_image:\n",
    "        name = generator_name.replace('$', '').replace('\\\\','')\n",
    "        det = det_name.replace('\\\\', '')\n",
    "        plt.savefig(f\"{name}_{str(epsilon)}_{type_name}_{det}.png\")\n",
    "    plt.show()\n",
    "    return states\n",
    "\n",
    "def orientation(a,b,c,epsilon,detFun):\n",
    "    det = detFun(a,b,c)\n",
    "    if 10**-8  < det < 10**-4:\n",
    "        print(f\"Determinant value: {det}\")\n",
    "    if det <= epsilon and det >= -epsilon:\n",
    "        return 0 # Colinear\n",
    "    elif det > epsilon:\n",
    "        return 1 # Positive orientation to the line\n",
    "    else:\n",
    "        return 2 # Negative orientation to the line\n",
    "\n",
    "\n",
    "def run_all_preprocessed(points_list,epsilons,dets,types,save_to_image=False):\n",
    "    for points,n,generator_name,size,show_line in points_list:\n",
    "        # with open(f\"{generator_name}.txt\",\"w\") as f:\n",
    "        #     f.write(\"epsilonm,typ numeryczy,wyznacznik,czas,poniżej prostej,powyżej prostej,na prostej\\n\")\n",
    "        results = []\n",
    "        numbers_to_dets = { \n",
    "            \"1.\": \"Własna implementacja $3 \\\\times 3$\",\n",
    "            \"2.\": \"Własna implementacja $2 \\\\times 2$\", \n",
    "            \"3.\": \"Wyznacznik macierzy $2 \\\\times 2$ z numpy\",  \n",
    "            \"4.\": \"Wyznacznik macierzy $3 \\\\times 3$ z numpy\"  \n",
    "        }\n",
    "            \n",
    "        name = generator_name.replace('$', '').replace('\\\\','')\n",
    "        tex_filename = f\"{name}.tex\"\n",
    "        plt.figure(figsize=(5,5))\n",
    "        plt.scatter(*zip(*points),s=[SIZES[size] for _ in range(n)])\n",
    "        plt.savefig(name + \".png\")\n",
    "\n",
    "        with open(tex_filename, \"w\") as f:\n",
    "            f.write(\"\\\\begin{table}[H]\\n\")\n",
    "            f.write(\"    \\\\centering\\n\")\n",
    "            f.write(\"    \\\\small\\n\")\n",
    "            f.write(f\"    \\\\caption{{Tabela różnic czasów obliczeń i tolerancji dla generatora {generator_name.replace('_',' ')}}}\\n\")\n",
    "            f.write(\"    \\\\resizebox{\\\\textwidth}{!}{\\n\")\n",
    "            f.write(\"    \\\\begin{tabular}{@{}llccccc@{}}\\n\")\n",
    "            f.write(\"        \\\\toprule\\n\")\n",
    "            f.write(\"        Tolerancja \\\\epsilon & Typ numeryczny & Numer wyznacznika & Czas obliczeń (s) & Punkty powyżej prostej & Punkty poniżej prostej & Punkty na prostej \\\\\\\\ \\\\midrule\\n\")\n",
    "        for type_, type_name in types:\n",
    "            points_typed = type_(points) \n",
    "            for epsilon in epsilons:\n",
    "                for detFun,det_num in dets:\n",
    "                    # Thick tolerance, tests if the line is properly set and if the code is working\n",
    "                    # epsilon = 10\n",
    "                    # detFun = det2\n",
    "                    start = time()\n",
    "                    states = calculate(points=points_typed,n=n,epsilon=epsilon,detFun=detFun,dot_size=size,show_line=show_line, name_params=(generator_name,type_name,numbers_to_dets[det_num]) ,save_to_image=save_to_image)\n",
    "                    end = time()\n",
    "                    elapsed_time = end - start\n",
    "                    print (f\"For {generator_name} elapsed time {elapsed_time} for epsilon {epsilon} using type {type_name} and determinant {numbers_to_dets[det_num]}\\nAbove: {states[1]} Below: {states[2]} Co-linear: {states[0]} \")\n",
    "                    # with open(f\"{generator_name}.txt\",\"a\") as f:\n",
    "                    #     f.write(f\"{epsilon},{type_name},{det_name},{end-start},{states[1]},{states[2]},{states[0]}\\n\")\n",
    "                    results.append({\n",
    "                        \"generator_name\": generator_name,\n",
    "                        \"epsilon\": epsilon,\n",
    "                        \"type_name\": type_name,\n",
    "                        \"det_name\": det_num,\n",
    "                        \"elapsed_time\": elapsed_time,\n",
    "                        \"above_line\": states[1],\n",
    "                        \"below_line\": states[2],\n",
    "                        \"collinear\": states[0]\n",
    "                    })\n",
    "        with open(tex_filename,\"a\") as f:\n",
    "            for result in results:\n",
    "                f.write(f\"        {result['epsilon']} & {result['type_name']} & {result['det_name']} & {result['elapsed_time']:.4f} & {result['above_line']} & {result['below_line']} & {result['collinear']} \\\\\\\\\\n\")\n",
    "            \n",
    "            f.write(\"        \\\\bottomrule\\n\")\n",
    "            f.write(\"    \\\\end{tabular}\\n}\\n\")\n",
    "            f.write(\"    \\\\small\\n\")\n",
    "            f.write(\"    \\\\caption*{\")\n",
    "            legend = dumps(numbers_to_dets).replace('{','').replace('}','',).replace(',','\\\\\\\\').replace(':', ' -')\n",
    "            f.write(f\"    {legend}\")\n",
    "            f.write(\"}\\n    \\\\normalsize\\n\")\n",
    "            f.write(\"\\\\end{table}\\n\")\n",
    "\n",
    "def run_all_functions(generator_list,epsilons,dets,types):\n",
    "    points_set = []\n",
    "    for generator_function,n,generator_name,size,show_line in generator_list:\n",
    "        # with open(f\"{generator_name}.txt\",\"w\") as f:\n",
    "        #     f.write(\"epsilon,det,time,s1,s2,s3\\n\")\n",
    "        points_set.append((generator_function(n),n,generator_name,size,show_line))        \n",
    "    run_all_preprocessed(points_set,epsilons,dets,types)\n",
    "\n",
    "# Invariant \n",
    "epsilons = [10**-14,10**-8] # , 10**-12, 10**-10]\n",
    "types = [(np.float32,\"float32\"), (np.float64,\"float64\")]\n",
    "\n",
    "# # Polish versions of determinants\n",
    "# dets_pl = [\n",
    "#     (det3x3, \"Własna implementacja $3 \\\\times 3$\"),\n",
    "#     (det2x2, \"Własna implementacja $2 \\\\times 2$\"),\n",
    "#     (det_np_2x2, \"Wyznacznik macierzy $2 \\\\times 2$ z numpy\"),\n",
    "#     (det_np_3x3, \"Wyznacznik macierzy $3 \\\\times 3$ z numpy\")\n",
    "# ]\n",
    "\n",
    "# # English versions of determinants\n",
    "# dets_en = [\n",
    "#     (det3x3, \"First own $3 \\\\times 3$\"),\n",
    "#     (det2x2, \"Second own $2 \\\\times 2$\"),\n",
    "#     (det_np_2x2, \"First np $2 \\\\times 2$\"),\n",
    "#     (det_np_3x3, \"Second np $3 \\\\times 3$\")\n",
    "# ]\n",
    "\n",
    "\n",
    "# Determinants have numbers and are described underneath the table, as I was not able to fit it whole in LaTeX\n",
    "dets = [\n",
    "    (det3x3, \"1.\"),\n",
    "    (det2x2, \"2.\"),\n",
    "    (det_np_2x2, \"3.\"),\n",
    "    (det_np_3x3, \"4.\")\n",
    "]\n",
    "\n",
    "\n",
    "# Polish versions of functions\n",
    "functions_pl = [\n",
    "    (First_generator, 10**5, \"$10^5$_z_$(-1000,_1000)$\",1,True),\n",
    "    (Second_generator, 10**5, \"$10^5$_z_$(-10^{14},_10^{14})$\",2,True),\n",
    "    (Third_generator, 10**3, \"Okrąg_o_promieniu_$100$_i_środku_$(0,_0)$\",1,True),\n",
    "    (Fourth_generator, 10**3, \"Linia_$(x,_y)_=_v_\\\\cdot_t$,_$v_=_(0,_0.1)$,_$t_\\\\in_\\\\mathbb{R}$\",0,False)\n",
    "]\n",
    "\n",
    "# English versions of functions\n",
    "functions_en = [\n",
    "    (First_generator,10**5,\"$10^5$_from_$(-1000,_1000)$\",1,True),\n",
    "    (Second_generator, 10**5,\"$10^5$_from_$(-10^{14},_10^{14})$\",2,True),\n",
    "    (Third_generator,10**3,\"Circle_of_radius_$100$_and_center_$(0,_0)$\",1,True),\n",
    "    (Fourth_generator,10**3,\"Line_$(x,_y)_=_v_\\\\cdot_t$,_$v_=_(0,_0.1)$,_$t_\\\\in_\\\\mathbb{R}$\",0,False)\n",
    "]\n",
    "\n",
    "\n",
    "# Polish and English versions of points set\n",
    "points_set_pl = [\n",
    "    (points1,10**5,\"$10^5$_z_$(-1000,_1000)$\",1,True),\n",
    "    (points2,10**5,\"$10^5$_z_$(-10^{14},_10^{14})$\",2,True),\n",
    "    (points3,10**3,\"Okrąg_o_promieniu_$100$_i_środku_$(0,_0)$\",1,True),\n",
    "    (points4,10**3,\"Linia_$(x,_y)_=_v_\\\\cdot_t$,_$v_=_(0,_0.1)$,_$t_\\\\in_\\\\mathbb{R}$\",0,False)\n",
    "]\n",
    "\n",
    "\n",
    "points_set_en = [\n",
    "    (points1,10**5,\"$10^5$_from_$(-1000,_1000)$\",1,True),\n",
    "    (points2, 10**5,\"$10^5$_from_$(-10^{14},_10^{14})$\",2,True),\n",
    "    (points3,10**3,\"Circle_of_radius_$100$_and_center_$(0,_0)$\",1,True),\n",
    "    (points4,10**3,\"Line_$(x,_y)_=_v_\\\\cdot_t$,_$v_=_(0,_0.1)$,_$t_\\\\in_\\\\mathbb{R}$\",0,False)\n",
    "]\n",
    "\n",
    "# run_all_functions(functions,epsilons,dets,types)\n",
    "\n",
    "run_all_preprocessed(points_set_pl,epsilons,dets,types,save_to_image=WRITE_TO_FILES)"
   ]
  }
 ],
 "metadata": {
  "kernelspec": {
   "display_name": "Python 3",
   "language": "python",
   "name": "python3"
  },
  "language_info": {
   "codemirror_mode": {
    "name": "ipython",
    "version": 3
   },
   "file_extension": ".py",
   "mimetype": "text/x-python",
   "name": "python",
   "nbconvert_exporter": "python",
   "pygments_lexer": "ipython3",
   "version": "3.8.10"
  }
 },
 "nbformat": 4,
 "nbformat_minor": 5
}
