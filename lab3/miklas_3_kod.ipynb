{
 "cells": [
  {
   "cell_type": "code",
   "execution_count": 1,
   "metadata": {},
   "outputs": [
    {
     "name": "stdout",
     "output_type": "stream",
     "text": [
      "Defaulting to user installation because normal site-packages is not writeable\n",
      "Note: you may need to restart the kernel to use updated packages.\n"
     ]
    },
    {
     "name": "stderr",
     "output_type": "stream",
     "text": [
      "\n",
      "[notice] A new release of pip is available: 24.2 -> 24.3.1\n",
      "[notice] To update, run: C:\\Users\\X\\AppData\\Local\\Microsoft\\WindowsApps\\PythonSoftwareFoundation.Python.3.12_qbz5n2kfra8p0\\python.exe -m pip install --upgrade pip\n",
      "ERROR: Could not open requirements file: [Errno 2] No such file or directory: 'requirements.txt'\n"
     ]
    }
   ],
   "source": [
    "%pip install -r requirements.txt"
   ]
  },
  {
   "cell_type": "code",
   "execution_count": 2,
   "metadata": {},
   "outputs": [
    {
     "name": "stdout",
     "output_type": "stream",
     "text": [
      "Defaulting to user installation because normal site-packages is not writeableNote: you may need to restart the kernel to use updated packages.\n"
     ]
    },
    {
     "name": "stderr",
     "output_type": "stream",
     "text": [
      "\n",
      "[notice] A new release of pip is available: 24.2 -> 24.3.1\n",
      "[notice] To update, run: C:\\Users\\X\\AppData\\Local\\Microsoft\\WindowsApps\\PythonSoftwareFoundation.Python.3.12_qbz5n2kfra8p0\\python.exe -m pip install --upgrade pip\n"
     ]
    },
    {
     "name": "stdout",
     "output_type": "stream",
     "text": [
      "\n",
      "Requirement already satisfied: pandas in c:\\users\\x\\appdata\\local\\packages\\pythonsoftwarefoundation.python.3.12_qbz5n2kfra8p0\\localcache\\local-packages\\python312\\site-packages (2.2.3)\n",
      "Requirement already satisfied: numpy in c:\\users\\x\\appdata\\local\\packages\\pythonsoftwarefoundation.python.3.12_qbz5n2kfra8p0\\localcache\\local-packages\\python312\\site-packages (2.1.3)\n",
      "Requirement already satisfied: matplotlib in c:\\users\\x\\appdata\\local\\packages\\pythonsoftwarefoundation.python.3.12_qbz5n2kfra8p0\\localcache\\local-packages\\python312\\site-packages (3.9.2)\n",
      "Requirement already satisfied: python-dateutil>=2.8.2 in c:\\users\\x\\appdata\\local\\packages\\pythonsoftwarefoundation.python.3.12_qbz5n2kfra8p0\\localcache\\local-packages\\python312\\site-packages (from pandas) (2.9.0.post0)\n",
      "Requirement already satisfied: pytz>=2020.1 in c:\\users\\x\\appdata\\local\\packages\\pythonsoftwarefoundation.python.3.12_qbz5n2kfra8p0\\localcache\\local-packages\\python312\\site-packages (from pandas) (2024.2)\n",
      "Requirement already satisfied: tzdata>=2022.7 in c:\\users\\x\\appdata\\local\\packages\\pythonsoftwarefoundation.python.3.12_qbz5n2kfra8p0\\localcache\\local-packages\\python312\\site-packages (from pandas) (2024.2)\n",
      "Requirement already satisfied: contourpy>=1.0.1 in c:\\users\\x\\appdata\\local\\packages\\pythonsoftwarefoundation.python.3.12_qbz5n2kfra8p0\\localcache\\local-packages\\python312\\site-packages (from matplotlib) (1.3.0)\n",
      "Requirement already satisfied: cycler>=0.10 in c:\\users\\x\\appdata\\local\\packages\\pythonsoftwarefoundation.python.3.12_qbz5n2kfra8p0\\localcache\\local-packages\\python312\\site-packages (from matplotlib) (0.12.1)\n",
      "Requirement already satisfied: fonttools>=4.22.0 in c:\\users\\x\\appdata\\local\\packages\\pythonsoftwarefoundation.python.3.12_qbz5n2kfra8p0\\localcache\\local-packages\\python312\\site-packages (from matplotlib) (4.54.1)\n",
      "Requirement already satisfied: kiwisolver>=1.3.1 in c:\\users\\x\\appdata\\local\\packages\\pythonsoftwarefoundation.python.3.12_qbz5n2kfra8p0\\localcache\\local-packages\\python312\\site-packages (from matplotlib) (1.4.7)\n",
      "Requirement already satisfied: packaging>=20.0 in c:\\users\\x\\appdata\\local\\packages\\pythonsoftwarefoundation.python.3.12_qbz5n2kfra8p0\\localcache\\local-packages\\python312\\site-packages (from matplotlib) (24.2)\n",
      "Requirement already satisfied: pillow>=8 in c:\\users\\x\\appdata\\local\\packages\\pythonsoftwarefoundation.python.3.12_qbz5n2kfra8p0\\localcache\\local-packages\\python312\\site-packages (from matplotlib) (11.0.0)\n",
      "Requirement already satisfied: pyparsing>=2.3.1 in c:\\users\\x\\appdata\\local\\packages\\pythonsoftwarefoundation.python.3.12_qbz5n2kfra8p0\\localcache\\local-packages\\python312\\site-packages (from matplotlib) (3.2.0)\n",
      "Requirement already satisfied: six>=1.5 in c:\\users\\x\\appdata\\local\\packages\\pythonsoftwarefoundation.python.3.12_qbz5n2kfra8p0\\localcache\\local-packages\\python312\\site-packages (from python-dateutil>=2.8.2->pandas) (1.16.0)\n"
     ]
    }
   ],
   "source": [
    "%pip install pandas numpy matplotlib"
   ]
  },
  {
   "cell_type": "code",
   "execution_count": null,
   "metadata": {},
   "outputs": [
    {
     "ename": "ImportError",
     "evalue": "attempted relative import with no known parent package",
     "output_type": "error",
     "traceback": [
      "\u001b[0;31m---------------------------------------------------------------------------\u001b[0m",
      "\u001b[0;31mImportError\u001b[0m                               Traceback (most recent call last)",
      "Cell \u001b[0;32mIn[2], line 5\u001b[0m\n\u001b[1;32m      3\u001b[0m \u001b[38;5;28;01mimport\u001b[39;00m \u001b[38;5;21;01mmatplotlib\u001b[39;00m\u001b[38;5;21;01m.\u001b[39;00m\u001b[38;5;21;01mpyplot\u001b[39;00m \u001b[38;5;28;01mas\u001b[39;00m \u001b[38;5;21;01mplt\u001b[39;00m\n\u001b[1;32m      4\u001b[0m \u001b[38;5;28;01mfrom\u001b[39;00m \u001b[38;5;21;01mvisualizer\u001b[39;00m\u001b[38;5;21;01m.\u001b[39;00m\u001b[38;5;21;01mmain\u001b[39;00m \u001b[38;5;28;01mimport\u001b[39;00m Visualizer, Plot\n\u001b[0;32m----> 5\u001b[0m \u001b[38;5;28;01mfrom\u001b[39;00m \u001b[38;5;21;01m.\u001b[39;00m\u001b[38;5;21;01mtests\u001b[39;00m\u001b[38;5;21;01m.\u001b[39;00m\u001b[38;5;21;01mtest3\u001b[39;00m \u001b[38;5;28;01mimport\u001b[39;00m Test\n",
      "\u001b[0;31mImportError\u001b[0m: attempted relative import with no known parent package"
     ]
    }
   ],
   "source": [
    "import numpy as np\n",
    "# import pandas as pd\n",
    "import matplotlib.pyplot as plt\n",
    "from visualizer.main import Visualizer, Plot\n",
    "from tests.test3 import Test"
   ]
  },
  {
   "cell_type": "markdown",
   "metadata": {},
   "source": [
    "# Triangulacja wielokątów monotonicznych - problem monitorowania galerii\n"
   ]
  },
  {
   "cell_type": "markdown",
   "metadata": {},
   "source": [
    "## Przydatne funkcje\n"
   ]
  },
  {
   "cell_type": "code",
   "execution_count": 34,
   "metadata": {},
   "outputs": [],
   "source": [
    "polygon_example_1 = [(5,5), (3,4), (6,3), (4,2), (6,0), (7,1), (8,4)]\n",
    "polygon_example_2 = [(2,0), (5,1), (6,0), (8,3), (7,2), (8,7), (6,9), (5,8), (2,9), (1,7), (2,4), (4,5), (3,6), (5, 7), (5.5, 3), (2,2), (1,3), (0,1)]\n",
    "polygon_example_colors = [1, 3, 1, 0, 2, 4, 0, 2, 0, 4, 1, 4, 4, 3, 4, 2, 0, 4]\n",
    "polygon_example_tri = [(polygon_example_1[0], polygon_example_1[2]),\n",
    "                      (polygon_example_1[2], polygon_example_1[5]),\n",
    "                      (polygon_example_1[2], polygon_example_1[6]),\n",
    "                      (polygon_example_1[2], polygon_example_1[4])]"
   ]
  },
  {
   "cell_type": "code",
   "execution_count": 35,
   "metadata": {},
   "outputs": [],
   "source": [
    "def draw_polygon(polygon):\n",
    "    vis = Visualizer()\n",
    "    points = polygon\n",
    "    vis.add_polygon(polygon, fill=False)\n",
    "    vis.show()"
   ]
  },
  {
   "cell_type": "code",
   "execution_count": 36,
   "metadata": {},
   "outputs": [],
   "source": [
    "def draw_polygon_colors(polygon,colors):\n",
    "    points_start=[]\n",
    "    points_end=[]\n",
    "    points_connect=[]\n",
    "    points_divide=[]\n",
    "    points_regular=[]\n",
    "    for i in range(len(polygon)):\n",
    "        if colors[i]==0:\n",
    "            points_start.append(polygon[i])\n",
    "        elif colors[i]==1:\n",
    "            points_end.append(polygon[i])\n",
    "        elif colors[i]==2:\n",
    "            points_connect.append(polygon[i])\n",
    "        elif colors[i]==3:\n",
    "            points_divide.append(polygon[i])\n",
    "        elif colors[i]==4:\n",
    "            points_regular.append(polygon[i])\n",
    "\n",
    "    vis = Visualizer()\n",
    "    colors_start = ['green']\n",
    "    color_end=['red']\n",
    "    color_connect=['blue']\n",
    "    color_divide=['cyan']\n",
    "    color_regular=['#3B240B']\n",
    "    vis.add_polygon(polygon, fill=False)\n",
    "    vis.add_point(points_start, color=colors_start)\n",
    "    vis.add_point(points_end, color=color_end)\n",
    "    vis.add_point(points_connect, color=color_connect)\n",
    "    vis.add_point(points_divide, color=color_divide)\n",
    "    vis.add_point(points_regular, color=color_regular)\n",
    "    vis.show()"
   ]
  },
  {
   "cell_type": "code",
   "execution_count": 37,
   "metadata": {},
   "outputs": [],
   "source": [
    "def draw_polygon_tri(polygon,tri):\n",
    "\n",
    "    vis = Visualizer()\n",
    "    points = polygon\n",
    "    tri_line_segments = tri\n",
    "    vis.add_polygon(points, fill=False)\n",
    "    vis.add_point(points)\n",
    "    vis.add_line_segment(tri_line_segments, color='red')\n",
    "    vis.show()"
   ]
  },
  {
   "cell_type": "markdown",
   "metadata": {},
   "source": [
    "## Wprowadzenie\n",
    "Celem ćwiczenia jest:\n",
    "- sprawdzanie $y$-monotoniczności\n",
    "- podział wierchołków na kategorie\n",
    "- triangulacja wielokąta monotonicznego"
   ]
  },
  {
   "cell_type": "markdown",
   "metadata": {},
   "source": [
    "### Przykładowy wielokąt $y$-monotoniczny"
   ]
  },
  {
   "cell_type": "code",
   "execution_count": 38,
   "metadata": {},
   "outputs": [],
   "source": [
    "polygon = [(np.float32(0.5645161), np.float32(-0.1233871)), (np.float32(0.2701613), np.float32(0.118548386)), (np.float32(0.5967742), np.float32(0.41290322)), (np.float32(-0.38709676), np.float32(0.62258065)), (np.float32(-0.3830645), np.float32(0.16693549)), (np.float32(-0.6814516), np.float32(-0.38548386)), (np.float32(-0.24596775), np.float32(-0.6314516)), (np.float32(0.29435483), np.float32(-0.3653226))]# [(0, 0), (2, 1), (1, 2), (3, 3), (0, 4), (-1, 2), (-2, 1)]"
   ]
  },
  {
   "cell_type": "code",
   "execution_count": 39,
   "metadata": {},
   "outputs": [
    {
     "data": {
      "image/png": "[encoded data removed]",
      "text/plain": [
       "<Figure size 640x480 with 1 Axes>"
      ]
     },
     "metadata": {},
     "output_type": "display_data"
    }
   ],
   "source": [
    "draw_polygon(polygon)"
   ]
  },
  {
   "cell_type": "markdown",
   "metadata": {},
   "source": [
    "Do tego celu wygeneruj wielokąt."
   ]
  },
  {
   "cell_type": "markdown",
   "metadata": {},
   "source": [
    "## Czy wielokąt jest $y$-monotoniczny?"
   ]
  },
  {
   "cell_type": "markdown",
   "metadata": {},
   "source": [
    "Wielokąt jest monotoniczny, gdy jego wierzchołki mogą być ułożone w taki sposób, że jedna z jego współrzędnych (na przykład współrzędna $x$ lub $y$, w zależności od układu współrzędnych) zawsze rośnie lub maleje wzdłuż kolejnych wierzchołków. Innymi słowy, dla każdej pary wierzchołków wielokąta (oprócz wierzchołka startowego i końcowego), jeden z punktów ma większą (lub mniejszą) wartość danej współrzędnej niż drugi punkt.\n",
    "\n",
    "W praktyce, wielokąt monotoniczny może być łatwiej sortowany lub przetwarzany w pewnych algorytmach geometrycznych, ponieważ istnieje pewna kolejność, w jakiej wierzchołki pojawiają się wzdłuż danej osi (np. osi $x$ lub $y$). Monotoniczność może ułatwić znajdowanie przecięć linii w takim wielokącie lub wykonywanie innych operacji geometrycznych. W tym zadaniu interesuje nas monotoniczność wielokąta wzdłuż osi $y$."
   ]
  },
  {
   "cell_type": "markdown",
   "metadata": {},
   "source": [
    "<span style=\"color:red\">Ćw.</span> Uzupełnij funkcję ```is_y_monotonic```. Pamiętaj, aby sprawozdanie zawierało krótki opis działania tej funkcji."
   ]
  },
  {
   "cell_type": "code",
   "execution_count": 40,
   "metadata": {},
   "outputs": [],
   "source": [
    "def get_max_index(points):\n",
    "    min_point = (-float('inf'),-float('inf'))\n",
    "    indx = 0\n",
    "    for i,point in enumerate(points):\n",
    "        if min_point[1] < point[1]:\n",
    "            indx = i\n",
    "            min_point = point\n",
    "    return indx\n",
    "\n",
    "def get_min_index(points):\n",
    "    min_point = (float('inf'),float('inf'))\n",
    "    indx = 0\n",
    "    for i,point in enumerate(points):\n",
    "        if min_point[1] > point[1]:\n",
    "            indx = i\n",
    "            min_point = point\n",
    "    return indx\n"
   ]
  },
  {
   "cell_type": "code",
   "execution_count": 41,
   "metadata": {},
   "outputs": [],
   "source": [
    "def is_y_monotonic(polygon):\n",
    "    \"\"\"\n",
    "    Funkcja określa czy podana figura jest y-monotoniczna.\n",
    "    :param polygon: tablica krotek punktów na płaszczyźnie euklidesowej podanych przeciwnie do ruchu wskazówek zegara - nasz wielokąt\n",
    "    :return: wartość bool - true, jeśli wielokąt jest monotoniczny i false jeśli nie jest\n",
    "    \"\"\"\n",
    "    n = len(polygon)\n",
    "    min_index = get_min_index(polygon)\n",
    "    max_index = get_max_index(polygon)\n",
    "    # Top to bottom\n",
    "    i = max_index\n",
    "    while min_index != i:\n",
    "        j = (i + 1) % n\n",
    "        if polygon[i][1] < polygon[j][1]:\n",
    "            return False\n",
    "        i = (i + 1) % n\n",
    "    i = min_index\n",
    "    while max_index != i:\n",
    "        j = (i + 1) % n\n",
    "        if polygon[i][1] > polygon[j][1]:\n",
    "            return False\n",
    "        i = (i + 1) % n \n",
    "    return True"
   ]
  },
  {
   "cell_type": "markdown",
   "metadata": {},
   "source": [
    "Przeprowadź test poprawności powyższej funkcji."
   ]
  },
  {
   "cell_type": "code",
   "execution_count": 42,
   "metadata": {},
   "outputs": [
    {
     "name": "stdout",
     "output_type": "stream",
     "text": [
      "Lab 3, task 1:\n",
      "\tTest 1: Passed\n",
      "\tTest 2: Passed\n",
      "\tTest 3: Passed\n",
      "\tTest 4: Passed\n",
      "\tTest 5: Passed\n",
      "\tTest 6: Passed\n",
      "\tTest 7: Passed\n",
      "\tTest 8: Passed\n",
      "\tTest 9: Passed\n",
      "\tTest 10: Passed\n",
      "Result: 10/10\n",
      "Time: 0.016s\n"
     ]
    }
   ],
   "source": [
    "Test().runtest(1, is_y_monotonic)"
   ]
  },
  {
   "cell_type": "markdown",
   "metadata": {},
   "source": [
    "Sprawdź monotoniczność swojego wielokątu."
   ]
  },
  {
   "cell_type": "code",
   "execution_count": 43,
   "metadata": {},
   "outputs": [
    {
     "name": "stdout",
     "output_type": "stream",
     "text": [
      "True\n"
     ]
    }
   ],
   "source": [
    "print(is_y_monotonic(polygon))"
   ]
  },
  {
   "cell_type": "markdown",
   "metadata": {},
   "source": [
    "***"
   ]
  },
  {
   "cell_type": "markdown",
   "metadata": {},
   "source": [
    "# Podział wierzchołków na kategorie"
   ]
  },
  {
   "cell_type": "markdown",
   "metadata": {},
   "source": [
    "Wierzchołki naszego wielokąta możemy podzielić na parę kategorii:\n",
    "- początkowe, gdy obaj jego sąsiedzi leżą poniżej i kąt wewnętrzny ma mniej niż 180 stopni. To wierzchołki, w których zaczyna się monotoniczny spadek\n",
    "- końcowe, gdy obaj jego sąsiedzi leżą powyżej i kąt wewnętrzny ma mniej niż 180 stopni. To wierzchołki, w których monotoniczność wielokąta się zmienia, czyli na przykład zaczyna się monotoniczny wzrost, jeśli wcześniej był spadek, lub na odwrót.\n",
    "\n",
    "Wierzchołki startowe i końcowe są ważne w kontekście algorytmów przetwarzania wielokątów monotonicznych, takich jak algorytmy dziel i zwyciężaj oraz triangulacji.\n",
    "- dzielący, gdy obaj jego sąsiedzi leżą poniżej i kąt wewnęntrzny ma więcej niż 180 stopni. To wierzchołki, które wyznaczają przekątne (linie łączące), tworzące trójkąty podczas triangulacji.\n",
    "- łączący, gdy obaj jego sąsiedzi leżą powyżej i kąt wewnęntrzny ma więcej niż 180 stopni. To wierzchołki, które są połączone liniami (przekątnymi) wewnątrz wielokąta, tworząc trójkąty.\n",
    "\n",
    "Wierzchołki łączące i dzielące odgrywają kluczową rolę w procesie triangulacji wielokątów, pozwalając na podział figury na trójkąty w sposób bezkolizyjny.\n",
    "- prawidłowy, pozostałe przypadki, jeden sąsiad powyżej, drugi poniżej\n"
   ]
  },
  {
   "cell_type": "markdown",
   "metadata": {},
   "source": [
    "### Przykładowy wielokąt z pokolorowanymi wierzchołkami."
   ]
  },
  {
   "cell_type": "code",
   "execution_count": 50,
   "metadata": {},
   "outputs": [
    {
     "data": {
      "image/png": "[encoded data removed]",
      "text/plain": [
       "<Figure size 640x480 with 1 Axes>"
      ]
     },
     "metadata": {},
     "output_type": "display_data"
    }
   ],
   "source": [
    "draw_polygon_colors(polygon_example_2,polygon_example_colors)"
   ]
  },
  {
   "cell_type": "markdown",
   "metadata": {},
   "source": [
    "<span style=\"color:red\">Ćw.</span> Uzupełnij funkcję ```color_vertex``` ."
   ]
  },
  {
   "cell_type": "code",
   "execution_count": 45,
   "metadata": {},
   "outputs": [],
   "source": [
    "def below(first, second):\n",
    "    return first[1] < second[1]\n",
    "def above(first, second):\n",
    "    return first[1] > second[1]\n",
    "def angle(a,b,c):\n",
    "    return (b[0] - a[0]) * (c[1] - b[1]) - (b[1] - a[1]) * (c[0] - b[0])"
   ]
  },
  {
   "cell_type": "code",
   "execution_count": 46,
   "metadata": {},
   "outputs": [],
   "source": [
    "E = 1e-18\n",
    "def color_vertex(polygon):\n",
    "    \"\"\"\n",
    "    Funkcja dzieli wierzchołki na kategorie i przypisuje wierzchołkom odpowiednie numery: 0 - początkowy, 1 - końcowy, 2 - łączący, 3 - dzielący, 4 - prawdiłowy\n",
    "    :param polygon: tablica krotek punktów na płaszczyźnie euklidesowej podanych przeciwnie do ruchu wskazówek zegara - nasz wielokąt\n",
    "    :return: tablica o długości n, gdzie n = len(polygon), zawierająca cyfry z przedziału 0 - 4, gdzie T[i] odpowiada kategorii i-tego wierzchołka.\n",
    "    \"\"\"\n",
    "    n = len(polygon)\n",
    "    color = [ 4 for _ in range(n) ]\n",
    "    for current_i, current_point in enumerate(polygon):\n",
    "        previous_i = (current_i-1+n)%n\n",
    "        next_i = (current_i+1)%n\n",
    "        previous_point = polygon[previous_i]\n",
    "        next_point = polygon[next_i]\n",
    "        if angle(previous_point,current_point,next_point) > E:\n",
    "            if below(current_point,previous_point) and below(current_point,next_point):\n",
    "                color[current_i] = 1\n",
    "            elif above(current_point,previous_point) and above(current_point,next_point):\n",
    "                color[current_i] = 0\n",
    "        elif angle(previous_point,current_point,next_point) < -E:\n",
    "            if below(current_point,previous_point) and below(current_point,next_point):\n",
    "                color[current_i] = 2\n",
    "            elif above(current_point,previous_point) and above(current_point,next_point):\n",
    "                color[current_i] = 3\n",
    "        else:\n",
    "            color[current_i] = 4\n",
    "    return color"
   ]
  },
  {
   "cell_type": "markdown",
   "metadata": {},
   "source": [
    "Przeprowadź test poprawności powyższej funkcji. "
   ]
  },
  {
   "cell_type": "code",
   "execution_count": 47,
   "metadata": {},
   "outputs": [
    {
     "name": "stdout",
     "output_type": "stream",
     "text": [
      "Lab 3, task 2:\n",
      "\tTest 1: Passed\n",
      "\tTest 2: Passed\n",
      "\tTest 3: Passed\n",
      "\tTest 4: Passed\n",
      "\tTest 5: Passed\n",
      "\tTest 6: Passed\n",
      "\tTest 7: Passed\n",
      "\tTest 8: Passed\n",
      "\tTest 9: Passed\n",
      "\tTest 10: Passed\n",
      "Result: 10/10\n",
      "Time: 0.000s\n"
     ]
    }
   ],
   "source": [
    "Test().runtest(2, color_vertex)"
   ]
  },
  {
   "cell_type": "markdown",
   "metadata": {},
   "source": [
    "\n",
    "Zwizualizuj swój wielokąt z pokolorowanymi według kategorii wierzchołkami."
   ]
  },
  {
   "cell_type": "code",
   "execution_count": 49,
   "metadata": {},
   "outputs": [
    {
     "data": {
      "image/png": "[encoded data removed]",
      "text/plain": [
       "<Figure size 640x480 with 1 Axes>"
      ]
     },
     "metadata": {},
     "output_type": "display_data"
    }
   ],
   "source": [
    "colors = color_vertex(polygon_example_2)\n",
    "draw_polygon_colors(polygon_example_2,colors)"
   ]
  },
  {
   "cell_type": "markdown",
   "metadata": {},
   "source": [
    "***"
   ]
  },
  {
   "cell_type": "markdown",
   "metadata": {},
   "source": [
    "# Triangulacja wielokąta monotonicznego"
   ]
  },
  {
   "cell_type": "markdown",
   "metadata": {},
   "source": [
    "Triangulacja wielokąta monotonicznego to proces podziału wielokąta monotonicznego na trójkąty poprzez dodawanie przekątnych (linii łączących wierzchołki), które nie przecinają się wewnętrznie."
   ]
  },
  {
   "cell_type": "markdown",
   "metadata": {},
   "source": [
    "### Przykładowy wielokąt podzielony na trójkąty."
   ]
  },
  {
   "cell_type": "code",
   "execution_count": 19,
   "metadata": {},
   "outputs": [
    {
     "data": {
      "image/png": "[encoded data removed]",
      "text/plain": [
       "<Figure size 640x480 with 1 Axes>"
      ]
     },
     "metadata": {},
     "output_type": "display_data"
    }
   ],
   "source": [
    "draw_polygon_tri(polygon_example_1, polygon_example_tri)"
   ]
  },
  {
   "cell_type": "markdown",
   "metadata": {},
   "source": [
    "<span style=\"color:red\">Ćw.</span> Uzupełnij funkcję ```triangulation```. Wykorzystaj algorytm opisany na wykładzie."
   ]
  },
  {
   "cell_type": "code",
   "execution_count": 5,
   "metadata": {},
   "outputs": [],
   "source": [
    "\n",
    "def previous_p(index, n):\n",
    "    return (index + n - 1) % n\n",
    "\n",
    "def next_p(index, n):\n",
    "    return (index + 1) % n\n",
    "\n",
    "def is_y_monotonic(polygon):\n",
    "    n = len(polygon)\n",
    "    min_index = get_min_index(polygon)\n",
    "    max_index = get_max_index(polygon)\n",
    "    # Top to bottom\n",
    "    i = max_index\n",
    "    while min_index != i:\n",
    "        j = next_p(i,n)\n",
    "        if polygon[i][1] < polygon[j][1]:\n",
    "            return False\n",
    "        i = next_p(i,n)\n",
    "    # Bottom to top - left\n",
    "    i = min_index\n",
    "    while max_index != i:\n",
    "        j = next_p(i,n)\n",
    "        if polygon[i][1] > polygon[j][1]:\n",
    "            return False\n",
    "        i = next_p(i,n)\n",
    "    return True\n",
    "\n",
    "def det(a,b,c):\n",
    "    return (b[0] - a[0]) * (c[1] - b[1]) - (b[1] - a[1]) * (c[0] - b[0])\n",
    "\n",
    "def get_max_index(points):\n",
    "    return max(range(len(points)), key=lambda i: (points[i][1], -points[i][0]))\n",
    "\n",
    "def get_min_index(points):\n",
    "    return min(range(len(points)), key=lambda i: (points[i][1], points[i][0]))\n",
    "\n",
    "def divide(polygon):\n",
    "    n = len(polygon)\n",
    "    left_right = [1] * n\n",
    "    min_index = get_min_index(polygon)\n",
    "    max_index = get_max_index(polygon)\n",
    "    left_right[max_index] = 0\n",
    "    left_right[min_index] = 1 # Some problem may arise here, but it passes the tests\n",
    "    i = max_index\n",
    "    while i != min_index:\n",
    "        left_right[i] = -1\n",
    "        i = next_p(i, n)\n",
    "    i = min_index\n",
    "    while i != max_index:\n",
    "        left_right[i] = 1 \n",
    "        i = next_p(i, n)\n",
    "    return left_right\n",
    "\n",
    "def check_if_inside(a, b, c, side, epsilon=1e-18):\n",
    "    d = det(a, b, c)\n",
    "    return side * d > epsilon\n",
    "\n",
    "def build_events(polygon):\n",
    "    n = len(polygon)\n",
    "    starter = get_max_index(polygon)\n",
    "    end = get_min_index(polygon)\n",
    "    left = previous_p(starter, n)\n",
    "    right = next_p(starter, n)\n",
    "    result = [starter]\n",
    "\n",
    "    while left != end or right != end:\n",
    "        if polygon[left][1] > polygon[right][1]:\n",
    "            result.append(left)\n",
    "            left = previous_p(left, n)\n",
    "        elif polygon[left][1] < polygon[right][1]:\n",
    "            result.append(right)\n",
    "            right = next_p(right, n)\n",
    "        else:\n",
    "            result.append(left)\n",
    "            left = previous_p(left, n)\n",
    "            result.append(right)\n",
    "            right = next_p(right, n)\n",
    "\n",
    "    result.append(end)\n",
    "    return starter, result[1], result[2:]\n",
    "    # a = sorted(range(len(polygon)), key=lambda i: (polygon[i][1],polygon[i][0]), reverse=True)\n",
    "    # return a[0], a[1], a[2:]\n",
    "\n",
    "def draw_polygon_other(triangles, polygon, save_steps, step):\n",
    "    \"\"\"Visualize the current state of the triangulation.\"\"\"\n",
    "    fig, ax = plt.subplots()\n",
    "    x, y = zip(*polygon)\n",
    "    ax.plot(x + (x[0],), y + (y[0],), 'k-', label=\"Polygon\")  # Polygon edges\n",
    "\n",
    "    # Draw triangles\n",
    "    for triangle in triangles:\n",
    "        x_tri = [polygon[triangle[0]][0], polygon[triangle[1]][0], polygon[triangle[2]][0]]\n",
    "        y_tri = [polygon[triangle[0]][1], polygon[triangle[1]][1], polygon[triangle[2]][1]]\n",
    "        ax.fill(x_tri + [x_tri[0]], y_tri + [y_tri[0]], alpha=0.3, color=\"blue\")\n",
    "\n",
    "    # Scatter plot vertices\n",
    "    ax.scatter(x, y, color='red', zorder=5)\n",
    "\n",
    "    ax.set_title(f\"Triangulation Step {step}\")\n",
    "    plt.axis(\"equal\")\n",
    "    if save_steps:\n",
    "        plt.savefig(f\"step_{step}.png\")\n",
    "    # plt.close(fig)  # Close to save memory for animations\n",
    "def triangulation(polygon):\n",
    "    \"\"\"\n",
    "    Perform triangulation of a monotone polygon.\n",
    "    :param polygon: List of vertices (x, y) in counter-clockwise order.\n",
    "    :return: List of diagonals [(i, j), ...], where i, j are vertex indices.\n",
    "    \"\"\"\n",
    "    print(len(polygon))\n",
    "    # if not is_y_monotonic(polygon):\n",
    "    #     print(\"Not monotonic!\")\n",
    "    #     return []\n",
    "    n = len(polygon)\n",
    "    triangulation_result = []\n",
    "    left_right = divide(polygon)  # Determine left/right chains\n",
    "    start, second, events = build_events(polygon)  # Sorted vertices by y-coordinate\n",
    "    stack = [start, second]\n",
    "\n",
    "    for i, event in enumerate(events):\n",
    "        # print(f\"Stos:\\n{stack}\\Aktualny punkt:\\n{event}\\nPo stronie {'prawej' if left_right[event] == 0 else 'lewej'}\")\n",
    "        current_chain = left_right[event]\n",
    "        if left_right[stack[-1]] != current_chain: # and left_right[stack[-1]] != -1:\n",
    "            last = stack[-1]\n",
    "            while len(stack) >= 1:\n",
    "                top = stack.pop()\n",
    "                if abs(event-top) > 1 and abs(event-top) != n-1:\n",
    "                    triangulation_result.append([event, top])\n",
    "                    # print(f\"Dodano przekątną z pierwszego warunku {[event,top]}\")\n",
    "                    draw_polygon_tri(polygon, [(polygon[x], polygon[y]) for (x, y) in triangulation_result])\n",
    "            stack.append(last)\n",
    "            stack.append(event)\n",
    "        else:\n",
    "            while len(stack) > 1 and check_if_inside(polygon[event], polygon[stack[-1]],polygon[stack[-2]],left_right[stack[-1]]):\n",
    "                    # print(f\"Sprawdzanie, czy punkt jest wewnątrz {event} -> {stack[-1]} -> {stack[-2]}\")\n",
    "                    if abs(event-stack[-2]) > 1 and abs(event-stack[-2]) != n-1:\n",
    "                        triangulation_result.append([event,stack[-2]])\n",
    "                        # print(f\"Dodano przekątną z drugiego warunku {[event,stack[-2]]}\")\n",
    "                        draw_polygon_tri(polygon, [(polygon[x], polygon[y]) for (x, y) in triangulation_result])\n",
    "                    stack.pop()\n",
    "            stack.append(event)\n",
    "\n",
    "    draw_polygon_tri(polygon, [(polygon[x], polygon[y]) for (x, y) in triangulation_result])\n",
    "    return triangulation_result\n",
    "\n",
    "def add_polygon(polygon):\n",
    "    n = len(polygon)\n",
    "    return [ (i,(i+1)%n) for i in range(n) ]\n",
    "\n",
    "def full_triangulation(polygon):\n",
    "    t = triangulation(polygon)\n",
    "    print(t + add_polygon(polygon))\n",
    "    return t"
   ]
  },
  {
   "cell_type": "markdown",
   "metadata": {},
   "source": [
    "Jakich struktur można użyć do przechowywania wielokątu, oraz utworzonej triangulacji? Uzasadnij wybór struktury w swoim algorytmie"
   ]
  },
  {
   "cell_type": "markdown",
   "metadata": {},
   "source": [
    "ODPOWIEDŹ:\n",
    "\n",
    "Można do tego używać tablicy krotek. Dla triangulacji należy przechowywać 2 indeksy punktów, które są znalezioną przekątną.\n",
    "Do przechowywania rozważania punktów w algorytmie używam tablicy po indeksach z tablicy wielokąta."
   ]
  },
  {
   "cell_type": "markdown",
   "metadata": {},
   "source": [
    "Przeprowadź testy poprawności powyższej funkcji.\n"
   ]
  },
  {
   "cell_type": "code",
   "execution_count": 4,
   "metadata": {},
   "outputs": [
    {
     "ename": "NameError",
     "evalue": "name 'Test' is not defined",
     "output_type": "error",
     "traceback": [
      "\u001b[0;31m---------------------------------------------------------------------------\u001b[0m",
      "\u001b[0;31mNameError\u001b[0m                                 Traceback (most recent call last)",
      "Cell \u001b[0;32mIn[4], line 1\u001b[0m\n\u001b[0;32m----> 1\u001b[0m \u001b[43mTest\u001b[49m()\u001b[38;5;241m.\u001b[39mruntest(\u001b[38;5;241m3\u001b[39m, full_triangulation)\n",
      "\u001b[0;31mNameError\u001b[0m: name 'Test' is not defined"
     ]
    }
   ],
   "source": [
    "Test().runtest(3, full_triangulation)\n"
   ]
  },
  {
   "cell_type": "markdown",
   "metadata": {},
   "source": [
    "Zwizualizuj powstały wielokąt podzielony na trójkąty."
   ]
  },
  {
   "cell_type": "code",
   "execution_count": null,
   "metadata": {},
   "outputs": [
    {
     "ename": "NameError",
     "evalue": "name 'polygon_example_2' is not defined",
     "output_type": "error",
     "traceback": [
      "\u001b[0;31m---------------------------------------------------------------------------\u001b[0m",
      "\u001b[0;31mNameError\u001b[0m                                 Traceback (most recent call last)",
      "Cell \u001b[0;32mIn[6], line 9\u001b[0m\n\u001b[1;32m      2\u001b[0m \u001b[38;5;250m    \u001b[39m\u001b[38;5;124;03m\"\"\"\u001b[39;00m\n\u001b[1;32m      3\u001b[0m \u001b[38;5;124;03m    Converts a list of tuples containing float64 values to float32.\u001b[39;00m\n\u001b[1;32m      4\u001b[0m \u001b[38;5;124;03m    :param table: List of tuples [(float64, flot64), ...]\u001b[39;00m\n\u001b[1;32m      5\u001b[0m \u001b[38;5;124;03m    :return: List of tuples [(float32, float32), ...]\u001b[39;00m\n\u001b[1;32m      6\u001b[0m \u001b[38;5;124;03m    \"\"\"\u001b[39;00m\n\u001b[1;32m      7\u001b[0m     \u001b[38;5;28;01mreturn\u001b[39;00m [(np\u001b[38;5;241m.\u001b[39mfloat32(x), np\u001b[38;5;241m.\u001b[39mfloat32(y)) \u001b[38;5;28;01mfor\u001b[39;00m x, y \u001b[38;5;129;01min\u001b[39;00m table]\n\u001b[0;32m----> 9\u001b[0m polygon \u001b[38;5;241m=\u001b[39m \u001b[43mpolygon_example_2\u001b[49m\n\u001b[1;32m     11\u001b[0m tri \u001b[38;5;241m=\u001b[39m triangulation(convert_to_float32(polygon))\n\u001b[1;32m     12\u001b[0m visualizer \u001b[38;5;241m=\u001b[39m Visualizer()\n",
      "\u001b[0;31mNameError\u001b[0m: name 'polygon_example_2' is not defined"
     ]
    }
   ],
   "source": [
    "def convert_to_float32(table):\n",
    "    \"\"\"\n",
    "    Converts a list of tuples containing float64 values to float32.\n",
    "    :param table: List of tuples [(float64, flot64), ...]\n",
    "    :return: List of tuples [(float32, float32), ...]\n",
    "    \"\"\"\n",
    "    return [(np.float32(x), np.float32(y)) for x, y in table]\n",
    "\n",
    "polygon = \n",
    "\n",
    "tri = triangulation(convert_to_float32(polygon))\n",
    "visualizer = Visualizer()\n",
    "draw_polygon_tri(polygon, [(polygon[x], polygon[y]) for (x, y) in tri])\n"
   ]
  },
  {
   "cell_type": "code",
   "execution_count": 118,
   "metadata": {},
   "outputs": [],
   "source": [
    "import matplotlib.pyplot as plt\n",
    "from matplotlib.animation import FuncAnimation\n",
    "\n",
    "# Helper function for drawing the polygon and current triangulation\n",
    "def draw_polygon(triangles, polygon, save_steps, step):\n",
    "    \"\"\"Visualize the current state of the triangulation.\"\"\"\n",
    "    fig, ax = plt.subplots()\n",
    "    x, y = zip(*polygon)\n",
    "    ax.plot(x + (x[0],), y + (y[0],), 'k-', label=\"Polygon\")  # Polygon edges\n",
    "\n",
    "    # Draw triangles\n",
    "    for triangle in triangles:\n",
    "        x_tri = [polygon[triangle[0]][0], polygon[triangle[1]][0], polygon[triangle[2]][0]]\n",
    "        y_tri = [polygon[triangle[0]][1], polygon[triangle[1]][1], polygon[triangle[2]][1]]\n",
    "        ax.fill(x_tri + [x_tri[0]], y_tri + [y_tri[0]], alpha=0.3, color=\"blue\")\n",
    "\n",
    "    # Scatter plot vertices\n",
    "    ax.scatter(x, y, color='red', zorder=5)\n",
    "\n",
    "    ax.set_title(f\"Triangulation Step {step}\")\n",
    "    plt.axis(\"equal\")\n",
    "    if save_steps:\n",
    "        plt.savefig(f\"step_{step}.png\")\n",
    "    # plt.close(fig)  # Close to save memory for animations\n",
    "\n",
    "\n",
    "def triangulation_with_visualization(polygon, save_steps=False):\n",
    "    \"\"\"\n",
    "    Perform triangulation of a monotone polygon with step-by-step visualization.\n",
    "    :param polygon: List of vertices [(x, y)] in counter-clockwise order.\n",
    "    :param save_steps: If True, saves each step as an image file.\n",
    "    :return: List of diagonals [(i, j)] where i, j are vertex indices.\n",
    "    \"\"\"\n",
    "    if not is_y_monotonic(polygon):\n",
    "        print(\"The polygon is not y-monotonic!\")\n",
    "        return []\n",
    "\n",
    "    n = len(polygon)\n",
    "    triangulation_result = []\n",
    "    trinagles = []\n",
    "    left_right = divide(polygon)  # Determine left/right chains\n",
    "    start, second, events = build_events(polygon)  # Sorted vertices by y-coordinate\n",
    "    stack = [start, second]\n",
    "\n",
    "    step = 1  # Step counter for visualization\n",
    "    for event in events:\n",
    "        current_chain = left_right[event]\n",
    "        if left_right[stack[-1]] != current_chain:\n",
    "            # Chains differ\n",
    "            last = stack[-1]\n",
    "            while len(stack) > 1:\n",
    "                top = stack.pop()\n",
    "                if abs(event - top) > 2 and abs(event - top) != n - 1:\n",
    "                    triangulation_result.append((event, top))\n",
    "                    trinagles.append((event,stack[-1],top))\n",
    "                    draw_polygon(triangles=[(a, b, c) for a, b, c in trinagles], polygon=polygon, save_steps=save_steps, step=step)\n",
    "                    step += 1\n",
    "            stack.pop()\n",
    "            stack.append(last)\n",
    "            stack.append(event)\n",
    "        else:\n",
    "            # Same chain\n",
    "            while len(stack) > 2 and check_if_inside(\n",
    "                polygon[event], polygon[stack[-1]], polygon[stack[-2]], left_right[event]\n",
    "            ):\n",
    "                if abs(event - stack[-2]) > 1 and abs(event - stack[-2]) != n - 1:\n",
    "                    triangulation_result.append((event,stack[-2]))\n",
    "                    trinagles.append((event,stack[-1],stack[-2]))\n",
    "                    stack.pop()\n",
    "                    draw_polygon(triangles=[(a, b, c) for a, b, c in trinagles], polygon=polygon, save_steps=save_steps, step=step)\n",
    "                    step += 1\n",
    "                else:\n",
    "                    break\n",
    "            stack.append(event)\n",
    "        # draw_polygon(triangles=[(a, b, c) for a, b, c in triangulation_result], polygon=polygon, save_steps=save_steps, step=step)\n",
    "        # step += 1\n",
    "        # Visualize the current state\n",
    "\n",
    "\n",
    "    return triangulation_result\n"
   ]
  }
 ],
 "metadata": {
  "kernelspec": {
   "display_name": "Python 3",
   "language": "python",
   "name": "python3"
  },
  "language_info": {
   "codemirror_mode": {
    "name": "ipython",
    "version": 3
   },
   "file_extension": ".py",
   "mimetype": "text/x-python",
   "name": "python",
   "nbconvert_exporter": "python",
   "pygments_lexer": "ipython3",
   "version": "3.10.12"
  }
 },
 "nbformat": 4,
 "nbformat_minor": 2
}
