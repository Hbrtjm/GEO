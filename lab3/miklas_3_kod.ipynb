{
 "cells": [
  {
   "cell_type": "code",
   "execution_count": 1,
   "metadata": {},
   "outputs": [
    {
     "name": "stdout",
     "output_type": "stream",
     "text": [
      "Defaulting to user installation because normal site-packages is not writeable\n",
      "Note: you may need to restart the kernel to use updated packages.\n"
     ]
    },
    {
     "name": "stderr",
     "output_type": "stream",
     "text": [
      "\n",
      "[notice] A new release of pip is available: 24.2 -> 24.3.1\n",
      "[notice] To update, run: C:\\Users\\X\\AppData\\Local\\Microsoft\\WindowsApps\\PythonSoftwareFoundation.Python.3.12_qbz5n2kfra8p0\\python.exe -m pip install --upgrade pip\n",
      "ERROR: Could not open requirements file: [Errno 2] No such file or directory: 'requirements.txt'\n"
     ]
    }
   ],
   "source": [
    "%pip install -r requirements.txt"
   ]
  },
  {
   "cell_type": "code",
   "execution_count": 2,
   "metadata": {},
   "outputs": [
    {
     "name": "stdout",
     "output_type": "stream",
     "text": [
      "Defaulting to user installation because normal site-packages is not writeableNote: you may need to restart the kernel to use updated packages.\n"
     ]
    },
    {
     "name": "stderr",
     "output_type": "stream",
     "text": [
      "\n",
      "[notice] A new release of pip is available: 24.2 -> 24.3.1\n",
      "[notice] To update, run: C:\\Users\\X\\AppData\\Local\\Microsoft\\WindowsApps\\PythonSoftwareFoundation.Python.3.12_qbz5n2kfra8p0\\python.exe -m pip install --upgrade pip\n"
     ]
    },
    {
     "name": "stdout",
     "output_type": "stream",
     "text": [
      "\n",
      "Requirement already satisfied: pandas in c:\\users\\x\\appdata\\local\\packages\\pythonsoftwarefoundation.python.3.12_qbz5n2kfra8p0\\localcache\\local-packages\\python312\\site-packages (2.2.3)\n",
      "Requirement already satisfied: numpy in c:\\users\\x\\appdata\\local\\packages\\pythonsoftwarefoundation.python.3.12_qbz5n2kfra8p0\\localcache\\local-packages\\python312\\site-packages (2.1.3)\n",
      "Requirement already satisfied: matplotlib in c:\\users\\x\\appdata\\local\\packages\\pythonsoftwarefoundation.python.3.12_qbz5n2kfra8p0\\localcache\\local-packages\\python312\\site-packages (3.9.2)\n",
      "Requirement already satisfied: python-dateutil>=2.8.2 in c:\\users\\x\\appdata\\local\\packages\\pythonsoftwarefoundation.python.3.12_qbz5n2kfra8p0\\localcache\\local-packages\\python312\\site-packages (from pandas) (2.9.0.post0)\n",
      "Requirement already satisfied: pytz>=2020.1 in c:\\users\\x\\appdata\\local\\packages\\pythonsoftwarefoundation.python.3.12_qbz5n2kfra8p0\\localcache\\local-packages\\python312\\site-packages (from pandas) (2024.2)\n",
      "Requirement already satisfied: tzdata>=2022.7 in c:\\users\\x\\appdata\\local\\packages\\pythonsoftwarefoundation.python.3.12_qbz5n2kfra8p0\\localcache\\local-packages\\python312\\site-packages (from pandas) (2024.2)\n",
      "Requirement already satisfied: contourpy>=1.0.1 in c:\\users\\x\\appdata\\local\\packages\\pythonsoftwarefoundation.python.3.12_qbz5n2kfra8p0\\localcache\\local-packages\\python312\\site-packages (from matplotlib) (1.3.0)\n",
      "Requirement already satisfied: cycler>=0.10 in c:\\users\\x\\appdata\\local\\packages\\pythonsoftwarefoundation.python.3.12_qbz5n2kfra8p0\\localcache\\local-packages\\python312\\site-packages (from matplotlib) (0.12.1)\n",
      "Requirement already satisfied: fonttools>=4.22.0 in c:\\users\\x\\appdata\\local\\packages\\pythonsoftwarefoundation.python.3.12_qbz5n2kfra8p0\\localcache\\local-packages\\python312\\site-packages (from matplotlib) (4.54.1)\n",
      "Requirement already satisfied: kiwisolver>=1.3.1 in c:\\users\\x\\appdata\\local\\packages\\pythonsoftwarefoundation.python.3.12_qbz5n2kfra8p0\\localcache\\local-packages\\python312\\site-packages (from matplotlib) (1.4.7)\n",
      "Requirement already satisfied: packaging>=20.0 in c:\\users\\x\\appdata\\local\\packages\\pythonsoftwarefoundation.python.3.12_qbz5n2kfra8p0\\localcache\\local-packages\\python312\\site-packages (from matplotlib) (24.2)\n",
      "Requirement already satisfied: pillow>=8 in c:\\users\\x\\appdata\\local\\packages\\pythonsoftwarefoundation.python.3.12_qbz5n2kfra8p0\\localcache\\local-packages\\python312\\site-packages (from matplotlib) (11.0.0)\n",
      "Requirement already satisfied: pyparsing>=2.3.1 in c:\\users\\x\\appdata\\local\\packages\\pythonsoftwarefoundation.python.3.12_qbz5n2kfra8p0\\localcache\\local-packages\\python312\\site-packages (from matplotlib) (3.2.0)\n",
      "Requirement already satisfied: six>=1.5 in c:\\users\\x\\appdata\\local\\packages\\pythonsoftwarefoundation.python.3.12_qbz5n2kfra8p0\\localcache\\local-packages\\python312\\site-packages (from python-dateutil>=2.8.2->pandas) (1.16.0)\n"
     ]
    }
   ],
   "source": [
    "%pip install pandas numpy matplotlib"
   ]
  },
  {
   "cell_type": "code",
   "execution_count": 81,
   "metadata": {},
   "outputs": [],
   "source": [
    "import numpy as np\n",
    "import pandas as pd\n",
    "import matplotlib.pyplot as plt\n",
    "from visualizer.main import Visualizer, Plot\n",
    "from tests.test3 import Test"
   ]
  },
  {
   "cell_type": "markdown",
   "metadata": {},
   "source": [
    "# Triangulacja wielokątów monotonicznych - problem monitorowania galerii\n"
   ]
  },
  {
   "cell_type": "markdown",
   "metadata": {},
   "source": [
    "## Przydatne funkcje\n"
   ]
  },
  {
   "cell_type": "code",
   "execution_count": 53,
   "metadata": {},
   "outputs": [],
   "source": [
    "polygon_example_1 = [(5,5), (3,4), (6,3), (4,2), (6,0), (7,1), (8,4)]\n",
    "polygon_example_2 = [(2,0), (5,1), (6,0), (8,3), (7,2), (8,7), (6,9), (5,8), (2,9), (1,7), (2,4), (4,5), (3,6), (5, 7), (5.5, 3), (2,2), (1,3), (0,1)]\n",
    "polygon_example_colors = [1, 3, 1, 0, 2, 4, 0, 2, 0, 4, 1, 4, 4, 3, 4, 2, 0, 4]\n",
    "polygon_example_tri = [(polygon_example_1[0], polygon_example_1[2]),\n",
    "                      (polygon_example_1[2], polygon_example_1[5]),\n",
    "                      (polygon_example_1[2], polygon_example_1[6]),\n",
    "                      (polygon_example_1[2], polygon_example_1[4])]"
   ]
  },
  {
   "cell_type": "code",
   "execution_count": 54,
   "metadata": {},
   "outputs": [],
   "source": [
    "def draw_polygon(polygon):\n",
    "    vis = Visualizer()\n",
    "    points = polygon\n",
    "    vis.add_polygon(polygon, fill=False)\n",
    "    vis.show()"
   ]
  },
  {
   "cell_type": "code",
   "execution_count": 55,
   "metadata": {},
   "outputs": [],
   "source": [
    "def draw_polygon_colors(polygon,colors):\n",
    "    points_start=[]\n",
    "    points_end=[]\n",
    "    points_connect=[]\n",
    "    points_divide=[]\n",
    "    points_regular=[]\n",
    "    for i in range(len(polygon)):\n",
    "        if colors[i]==0:\n",
    "            points_start.append(polygon[i])\n",
    "        elif colors[i]==1:\n",
    "            points_end.append(polygon[i])\n",
    "        elif colors[i]==2:\n",
    "            points_connect.append(polygon[i])\n",
    "        elif colors[i]==3:\n",
    "            points_divide.append(polygon[i])\n",
    "        elif colors[i]==4:\n",
    "            points_regular.append(polygon[i])\n",
    "\n",
    "    vis = Visualizer()\n",
    "    colors_start = ['green']\n",
    "    color_end=['red']\n",
    "    color_connect=['blue']\n",
    "    color_divide=['cyan']\n",
    "    color_regular=['#3B240B']\n",
    "    vis.add_polygon(polygon, fill=False)\n",
    "    vis.add_point(points_start, color=colors_start)\n",
    "    vis.add_point(points_end, color=color_end)\n",
    "    vis.add_point(points_connect, color=color_connect)\n",
    "    vis.add_point(points_divide, color=color_divide)\n",
    "    vis.add_point(points_regular, color=color_regular)\n",
    "    vis.show()"
   ]
  },
  {
   "cell_type": "code",
   "execution_count": 56,
   "metadata": {},
   "outputs": [],
   "source": [
    "def draw_polygon_tri(polygon,tri):\n",
    "\n",
    "    vis = Visualizer()\n",
    "    points = polygon\n",
    "    tri_line_segments = tri\n",
    "    vis.add_polygon(points, fill=False)\n",
    "    vis.add_point(points)\n",
    "    vis.add_line_segment(tri_line_segments, color='red')\n",
    "    vis.show()"
   ]
  },
  {
   "cell_type": "markdown",
   "metadata": {},
   "source": [
    "## Wprowadzenie\n",
    "Celem ćwiczenia jest:\n",
    "- sprawdzanie $y$-monotoniczności\n",
    "- podział wierchołków na kategorie\n",
    "- triangulacja wielokąta monotonicznego"
   ]
  },
  {
   "cell_type": "markdown",
   "metadata": {},
   "source": [
    "### Przykładowy wielokąt $y$-monotoniczny"
   ]
  },
  {
   "cell_type": "code",
   "execution_count": 58,
   "metadata": {},
   "outputs": [
    {
     "data": {
      "image/png": "[encoded data removed]",
      "text/plain": [
       "<Figure size 640x480 with 1 Axes>"
      ]
     },
     "metadata": {},
     "output_type": "display_data"
    }
   ],
   "source": [
    "draw_polygon(polygon_example_1)"
   ]
  },
  {
   "cell_type": "markdown",
   "metadata": {},
   "source": [
    "Do tego celu wygeneruj wielokąt."
   ]
  },
  {
   "cell_type": "code",
   "execution_count": 59,
   "metadata": {},
   "outputs": [],
   "source": [
    "polygon = [(0, 0), (2, 1), (1, 2), (3, 3), (0, 4), (-1, 2), (-2, 1)]"
   ]
  },
  {
   "cell_type": "markdown",
   "metadata": {},
   "source": [
    "## Czy wielokąt jest $y$-monotoniczny?"
   ]
  },
  {
   "cell_type": "markdown",
   "metadata": {},
   "source": [
    "Wielokąt jest monotoniczny, gdy jego wierzchołki mogą być ułożone w taki sposób, że jedna z jego współrzędnych (na przykład współrzędna $x$ lub $y$, w zależności od układu współrzędnych) zawsze rośnie lub maleje wzdłuż kolejnych wierzchołków. Innymi słowy, dla każdej pary wierzchołków wielokąta (oprócz wierzchołka startowego i końcowego), jeden z punktów ma większą (lub mniejszą) wartość danej współrzędnej niż drugi punkt.\n",
    "\n",
    "W praktyce, wielokąt monotoniczny może być łatwiej sortowany lub przetwarzany w pewnych algorytmach geometrycznych, ponieważ istnieje pewna kolejność, w jakiej wierzchołki pojawiają się wzdłuż danej osi (np. osi $x$ lub $y$). Monotoniczność może ułatwić znajdowanie przecięć linii w takim wielokącie lub wykonywanie innych operacji geometrycznych. W tym zadaniu interesuje nas monotoniczność wielokąta wzdłuż osi $y$."
   ]
  },
  {
   "cell_type": "markdown",
   "metadata": {},
   "source": [
    "<span style=\"color:red\">Ćw.</span> Uzupełnij funkcję ```is_y_monotonic```. Pamiętaj, aby sprawozdanie zawierało krótki opis działania tej funkcji."
   ]
  },
  {
   "cell_type": "code",
   "execution_count": 60,
   "metadata": {},
   "outputs": [],
   "source": [
    "def get_max_index(points):\n",
    "    min_point = (-float('inf'),-float('inf'))\n",
    "    indx = 0\n",
    "    for i,point in enumerate(points):\n",
    "        if min_point[1] < point[1]:\n",
    "            indx = i\n",
    "            min_point = point\n",
    "    return indx\n",
    "\n",
    "def get_min_index(points):\n",
    "    min_point = (float('inf'),float('inf'))\n",
    "    indx = 0\n",
    "    for i,point in enumerate(points):\n",
    "        if min_point[1] > point[1]:\n",
    "            indx = i\n",
    "            min_point = point\n",
    "    return indx\n"
   ]
  },
  {
   "cell_type": "code",
   "execution_count": 61,
   "metadata": {},
   "outputs": [],
   "source": [
    "def is_y_monotonic(polygon):\n",
    "    \"\"\"\n",
    "    Funkcja określa czy podana figura jest y-monotoniczna.\n",
    "    :param polygon: tablica krotek punktów na płaszczyźnie euklidesowej podanych przeciwnie do ruchu wskazówek zegara - nasz wielokąt\n",
    "    :return: wartość bool - true, jeśli wielokąt jest monotoniczny i false jeśli nie jest\n",
    "    \"\"\"\n",
    "    n = len(polygon)\n",
    "    min_index = get_min_index(polygon)\n",
    "    max_index = get_max_index(polygon)\n",
    "    # Top to bottom\n",
    "    i = max_index\n",
    "    while min_index != i:\n",
    "        j = (i + 1) % n\n",
    "        if polygon[i][1] < polygon[j][1]:\n",
    "            return False\n",
    "        i = (i + 1) % n\n",
    "    i = min_index\n",
    "    while max_index != i:\n",
    "        j = (i + 1) % n\n",
    "        if polygon[i][1] > polygon[j][1]:\n",
    "            return False\n",
    "        i = (i + 1) % n \n",
    "    return True"
   ]
  },
  {
   "cell_type": "markdown",
   "metadata": {},
   "source": [
    "Przeprowadź test poprawności powyższej funkcji."
   ]
  },
  {
   "cell_type": "code",
   "execution_count": 62,
   "metadata": {},
   "outputs": [
    {
     "name": "stdout",
     "output_type": "stream",
     "text": [
      "Lab 3, task 1:\n",
      "\tTest 1: Passed\n",
      "\tTest 2: Passed\n",
      "\tTest 3: Passed\n",
      "\tTest 4: Passed\n",
      "\tTest 5: Passed\n",
      "\tTest 6: Passed\n",
      "\tTest 7: Passed\n",
      "\tTest 8: Passed\n",
      "\tTest 9: Passed\n",
      "\tTest 10: Passed\n",
      "Result: 10/10\n",
      "Time: 0.000s\n"
     ]
    }
   ],
   "source": [
    "Test().runtest(1, is_y_monotonic)"
   ]
  },
  {
   "cell_type": "markdown",
   "metadata": {},
   "source": [
    "Sprawdź monotoniczność swojego wielokątu."
   ]
  },
  {
   "cell_type": "code",
   "execution_count": 63,
   "metadata": {},
   "outputs": [
    {
     "name": "stdout",
     "output_type": "stream",
     "text": [
      "True\n"
     ]
    }
   ],
   "source": [
    "print(is_y_monotonic(polygon))"
   ]
  },
  {
   "cell_type": "markdown",
   "metadata": {},
   "source": [
    "***"
   ]
  },
  {
   "cell_type": "markdown",
   "metadata": {},
   "source": [
    "# Podział wierzchołków na kategorie"
   ]
  },
  {
   "cell_type": "markdown",
   "metadata": {},
   "source": [
    "Wierzchołki naszego wielokąta możemy podzielić na parę kategorii:\n",
    "- początkowe, gdy obaj jego sąsiedzi leżą poniżej i kąt wewnętrzny ma mniej niż 180 stopni. To wierzchołki, w których zaczyna się monotoniczny spadek\n",
    "- końcowe, gdy obaj jego sąsiedzi leżą powyżej i kąt wewnętrzny ma mniej niż 180 stopni. To wierzchołki, w których monotoniczność wielokąta się zmienia, czyli na przykład zaczyna się monotoniczny wzrost, jeśli wcześniej był spadek, lub na odwrót.\n",
    "\n",
    "Wierzchołki startowe i końcowe są ważne w kontekście algorytmów przetwarzania wielokątów monotonicznych, takich jak algorytmy dziel i zwyciężaj oraz triangulacji.\n",
    "- dzielący, gdy obaj jego sąsiedzi leżą poniżej i kąt wewnęntrzny ma więcej niż 180 stopni. To wierzchołki, które wyznaczają przekątne (linie łączące), tworzące trójkąty podczas triangulacji.\n",
    "- łączący, gdy obaj jego sąsiedzi leżą powyżej i kąt wewnęntrzny ma więcej niż 180 stopni. To wierzchołki, które są połączone liniami (przekątnymi) wewnątrz wielokąta, tworząc trójkąty.\n",
    "\n",
    "Wierzchołki łączące i dzielące odgrywają kluczową rolę w procesie triangulacji wielokątów, pozwalając na podział figury na trójkąty w sposób bezkolizyjny.\n",
    "- prawidłowy, pozostałe przypadki, jeden sąsiad powyżej, drugi poniżej\n"
   ]
  },
  {
   "cell_type": "markdown",
   "metadata": {},
   "source": [
    "### Przykładowy wielokąt z pokolorowanymi wierzchołkami."
   ]
  },
  {
   "cell_type": "code",
   "execution_count": 64,
   "metadata": {},
   "outputs": [
    {
     "data": {
      "image/png": "[encoded data removed]",
      "text/plain": [
       "<Figure size 640x480 with 1 Axes>"
      ]
     },
     "metadata": {},
     "output_type": "display_data"
    }
   ],
   "source": [
    "draw_polygon_colors(polygon,polygon_example_colors)"
   ]
  },
  {
   "cell_type": "markdown",
   "metadata": {},
   "source": [
    "<span style=\"color:red\">Ćw.</span> Uzupełnij funkcję ```color_vertex``` ."
   ]
  },
  {
   "cell_type": "code",
   "execution_count": 65,
   "metadata": {},
   "outputs": [],
   "source": [
    "def below(first, second):\n",
    "    return first[1] < second[1]\n",
    "def above(first, second):\n",
    "    return first[1] > second[1]\n",
    "def angle(a,b,c):\n",
    "    return (b[0] - a[0]) * (c[1] - b[1]) - (b[1] - a[1]) * (c[0] - b[0])"
   ]
  },
  {
   "cell_type": "code",
   "execution_count": 66,
   "metadata": {},
   "outputs": [],
   "source": [
    "E = 1e-18\n",
    "def color_vertex(polygon):\n",
    "    \"\"\"\n",
    "    Funkcja dzieli wierzchołki na kategorie i przypisuje wierzchołkom odpowiednie numery: 0 - początkowy, 1 - końcowy, 2 - łączący, 3 - dzielący, 4 - prawdiłowy\n",
    "    :param polygon: tablica krotek punktów na płaszczyźnie euklidesowej podanych przeciwnie do ruchu wskazówek zegara - nasz wielokąt\n",
    "    :return: tablica o długości n, gdzie n = len(polygon), zawierająca cyfry z przedziału 0 - 4, gdzie T[i] odpowiada kategorii i-tego wierzchołka.\n",
    "    \"\"\"\n",
    "    n = len(polygon)\n",
    "    color = [ 4 for _ in range(n) ]\n",
    "    for current_i, current_point in enumerate(polygon):\n",
    "        previous_i = (current_i-1+n)%n\n",
    "        next_i = (current_i+1)%n\n",
    "        previous_point = polygon[previous_i]\n",
    "        next_point = polygon[next_i]\n",
    "        if angle(previous_point,current_point,next_point) > E:\n",
    "            if below(current_point,previous_point) and below(current_point,next_point):\n",
    "                color[current_i] = 1\n",
    "            elif above(current_point,previous_point) and above(current_point,next_point):\n",
    "                color[current_i] = 0\n",
    "        elif angle(previous_point,current_point,next_point) < -E:\n",
    "            if below(current_point,previous_point) and below(current_point,next_point):\n",
    "                color[current_i] = 2\n",
    "            elif above(current_point,previous_point) and above(current_point,next_point):\n",
    "                color[current_i] = 3\n",
    "        else:\n",
    "            color[current_i] = 4\n",
    "    return color"
   ]
  },
  {
   "cell_type": "markdown",
   "metadata": {},
   "source": [
    "Przeprowadź test poprawności powyższej funkcji. "
   ]
  },
  {
   "cell_type": "code",
   "execution_count": 67,
   "metadata": {},
   "outputs": [
    {
     "name": "stdout",
     "output_type": "stream",
     "text": [
      "Lab 3, task 2:\n",
      "\tTest 1: Passed\n",
      "\tTest 2: Passed\n",
      "\tTest 3: Passed\n",
      "\tTest 4: Passed\n",
      "\tTest 5: Passed\n",
      "\tTest 6: Passed\n",
      "\tTest 7: Passed\n",
      "\tTest 8: Passed\n",
      "\tTest 9: Passed\n",
      "\tTest 10: Passed\n",
      "Result: 10/10\n",
      "Time: 0.000s\n"
     ]
    }
   ],
   "source": [
    "Test().runtest(2, color_vertex)"
   ]
  },
  {
   "cell_type": "markdown",
   "metadata": {},
   "source": [
    "\n",
    "Zwizualizuj swój wielokąt z pokolorowanymi według kategorii wierzchołkami."
   ]
  },
  {
   "cell_type": "code",
   "execution_count": 68,
   "metadata": {},
   "outputs": [
    {
     "data": {
      "image/png": "[encoded data removed]",
      "text/plain": [
       "<Figure size 640x480 with 1 Axes>"
      ]
     },
     "metadata": {},
     "output_type": "display_data"
    }
   ],
   "source": [
    "colors = color_vertex(polygon)\n",
    "draw_polygon_colors(polygon,colors)"
   ]
  },
  {
   "cell_type": "markdown",
   "metadata": {},
   "source": [
    "***"
   ]
  },
  {
   "cell_type": "markdown",
   "metadata": {},
   "source": [
    "# Triangulacja wielokąta monotonicznego"
   ]
  },
  {
   "cell_type": "markdown",
   "metadata": {},
   "source": [
    "Triangulacja wielokąta monotonicznego to proces podziału wielokąta monotonicznego na trójkąty poprzez dodawanie przekątnych (linii łączących wierzchołki), które nie przecinają się wewnętrznie."
   ]
  },
  {
   "cell_type": "markdown",
   "metadata": {},
   "source": [
    "### Przykładowy wielokąt podzielony na trójkąty."
   ]
  },
  {
   "cell_type": "code",
   "execution_count": 69,
   "metadata": {},
   "outputs": [
    {
     "data": {
      "image/png": "[encoded data removed]",
      "text/plain": [
       "<Figure size 640x480 with 1 Axes>"
      ]
     },
     "metadata": {},
     "output_type": "display_data"
    }
   ],
   "source": [
    "draw_polygon_tri(polygon_example_1, polygon_example_tri)"
   ]
  },
  {
   "cell_type": "markdown",
   "metadata": {},
   "source": [
    "<span style=\"color:red\">Ćw.</span> Uzupełnij funkcję ```triangulation```. Wykorzystaj algorytm opisany na wykładzie."
   ]
  },
  {
   "cell_type": "code",
   "execution_count": 70,
   "metadata": {},
   "outputs": [],
   "source": [
    " \n",
    "\n",
    "def triangulation_t(polygon):\n",
    "    triangulation_result = []\n",
    "    left_right = divide(polygon)\n",
    "    events = build_events(polygon)\n",
    "    \n",
    "    return triangulation_result\n",
    "    raise Exception(\"Unimplemented\")"
   ]
  },
  {
   "cell_type": "code",
   "execution_count": 71,
   "metadata": {},
   "outputs": [],
   "source": [
    "def previous_p(index, n):\n",
    "    return (index + n - 1) % n\n",
    "\n",
    "def next_p(index, n):\n",
    "    return (index + 1) % n\n",
    "\n",
    "def get_max_index(points):\n",
    "    # Find the index of the vertex with the maximum y-coordinate\n",
    "    max_point = (-float('inf'), -float('inf'))\n",
    "    indx = 0\n",
    "    for i, point in enumerate(points):\n",
    "        if point[1] > max_point[1]:\n",
    "            indx = i\n",
    "            max_point = point\n",
    "    return indx\n",
    "\n",
    "def get_min_index(points):\n",
    "    # Find the index of the vertex with the minimum y-coordinate\n",
    "    min_point = (float('inf'), float('inf'))\n",
    "    indx = 0\n",
    "    for i, point in enumerate(points):\n",
    "        if point[1] < min_point[1]:\n",
    "            indx = i\n",
    "            min_point = point\n",
    "    return indx\n",
    "\n",
    "def build_events(polygon):\n",
    "    # Create a list of vertices sorted by y-coordinate (monotonic direction)\n",
    "    return sorted(range(len(polygon)), key=lambda i: (-polygon[i][1], polygon[i][0]))\n",
    "\n",
    "def divide(polygon):\n",
    "    n = len(polygon)\n",
    "    left_right = [0 for _ in range(n)]\n",
    "    min_index = get_min_index(polygon)\n",
    "    max_index = get_max_index(polygon)\n",
    "\n",
    "    # Assign chain type (0 for left, 1 for right)\n",
    "    i = max_index\n",
    "    while i != min_index:\n",
    "        left_right[i] = 0  # Left chain\n",
    "        i = next_p(i, n)\n",
    "\n",
    "    i = min_index\n",
    "    while i != max_index:\n",
    "        left_right[i] = 1  # Right chain\n",
    "        i = next_p(i, n)\n",
    "\n",
    "    return left_right\n",
    "\n",
    "def triangulation(polygon):\n",
    "    triangulation_result = []\n",
    "    left_right = divide(polygon)  # Determine left/right chain\n",
    "    events = build_events(polygon)  # Events sorted by y-coordinate\n",
    "    stack = []\n",
    "\n",
    "    for event in events:\n",
    "        if len(stack) < 2:\n",
    "            # Push the first two vertices to the stack\n",
    "            stack.append(event)\n",
    "        else:\n",
    "            current_chain = left_right[event]\n",
    "            if left_right[stack[-1]] != current_chain:\n",
    "                # Opposite chain: connect to all vertices in the stack\n",
    "                while len(stack) > 1:\n",
    "                    top = stack.pop()\n",
    "                    triangulation_result.append((event, top))\n",
    "                # Keep the last vertex on the stack\n",
    "                last = stack.pop()\n",
    "                stack.append(last)  # Add the last one back\n",
    "                stack.append(event)  # Add the current vertex\n",
    "            else:\n",
    "                # Same chain: add valid diagonals\n",
    "                while len(stack) > 1:\n",
    "                    top = stack.pop()\n",
    "                    next_top = stack[-1]\n",
    "                    # Add diagonal\n",
    "                    triangulation_result.append((event, next_top))\n",
    "                    # Check convexity, if required\n",
    "                # Leave the top vertex\n",
    "                stack.append(top)\n",
    "                stack.append(event)\n",
    "\n",
    "    # Add final diagonals\n",
    "    while len(stack) > 2:\n",
    "        top = stack.pop()\n",
    "        triangulation_result.append((stack[-1], top))\n",
    "\n",
    "    return triangulation_result\n"
   ]
  },
  {
   "cell_type": "code",
   "execution_count": null,
   "metadata": {},
   "outputs": [],
   "source": [
    "def previous_p(index, n):\n",
    "    return (index + n - 1) % n\n",
    "\n",
    "def next_p(index, n):\n",
    "    return (index + 1) % n\n",
    "\n",
    "def get_max_index(points):\n",
    "    return max(range(len(points)), key=lambda i: (points[i][1], -points[i][0]))\n",
    "\n",
    "def get_min_index(points):\n",
    "    return min(range(len(points)), key=lambda i: (points[i][1], points[i][0]))\n",
    "\n",
    "def divide(polygon):\n",
    "    n = len(polygon)\n",
    "    left_right = [0] * n\n",
    "    min_index = get_min_index(polygon)\n",
    "    max_index = get_max_index(polygon)\n",
    "\n",
    "    # Mark left chain\n",
    "    i = max_index\n",
    "    while i != min_index:\n",
    "        left_right[i] = 0  # Left chain\n",
    "        i = next_p(i, n)\n",
    "\n",
    "    # Mark right chain\n",
    "    i = min_index\n",
    "    while i != max_index:\n",
    "        left_right[i] = 1  # Right chain\n",
    "        i = next_p(i, n)\n",
    "\n",
    "    return left_right\n",
    "\n",
    "def build_events(polygon):\n",
    "    return sorted(range(len(polygon)), key=lambda i: (-polygon[i][1], polygon[i][0]))\n",
    "\n",
    "def triangulation_x(polygon):\n",
    "    \"\"\"\n",
    "    Perform triangulation of a monotone polygon.\n",
    "    :param polygon: List of vertices (x, y) in counter-clockwise order.\n",
    "    :return: List of diagonals [(i, j), ...], where i, j are vertex indices.\n",
    "    \"\"\"\n",
    "    if not is_y_monotonic(polygon):\n",
    "        return []\n",
    "    n = len(polygon)\n",
    "    colors = color_vertex(polygon)\n",
    "    triangulation_result = []\n",
    "    left_right = divide(polygon)  # Determine left/right chains\n",
    "    events = build_events(polygon)  # Sorted vertices by y-coordinate\n",
    "    stack = []\n",
    "\n",
    "    for i, event in enumerate(events):\n",
    "\n",
    "        if left_right[i] != left_right[stack[-1]]:\n",
    "            for k in range(len(stack)-1,0,-1):\n",
    "                triangulation_result.append()\n",
    "            \n",
    "        current_chain = left_right[event]\n",
    "        if left_right[stack[-1]] != current_chain:\n",
    "            # Opposite chain: connect diagonals to all stack vertices\n",
    "            while len(stack) > 1:\n",
    "                top = stack.pop()\n",
    "                triangulation_result.append((event, top))\n",
    "            stack.pop()  # Remove the last vertex\n",
    "            stack.append(events[i - 1])  # Push the previous event\n",
    "            stack.append(event)\n",
    "        else:\n",
    "            # Same chain: check convexity and add diagonals\n",
    "            while len(stack) > 1:\n",
    "                top = stack.pop()\n",
    "                next_top = stack[-1]\n",
    "                # Add a diagonal\n",
    "                triangulation_result.append((event, next_top))\n",
    "            stack.append(top)  # Restore the last vertex\n",
    "            stack.append(event)\n",
    "\n",
    "    # Final diagonals from remaining stack\n",
    "    while len(stack) > 2:\n",
    "        top = stack.pop()\n",
    "        triangulation_result.append((stack[-1], top))\n",
    "\n",
    "    return triangulation_result\n"
   ]
  },
  {
   "cell_type": "code",
   "execution_count": null,
   "metadata": {},
   "outputs": [],
   "source": [
    "import enum\n",
    "class Point:\n",
    "    def __init__(self, pos, side, classification):\n",
    "        self.pos = pos\n",
    "        self.side = side\n",
    "        self.classification = classification\n",
    "\n",
    "    def __gt__(self, other):\n",
    "        return self.pos[1] > other.pos[1] or (self.pos[1] == other.pos[1] and self.pos[0] < other.pos[0])\n",
    "\n",
    "class Point_side(enum.Enum):\n",
    "    left = 1\n",
    "    right = 2\n",
    "    both = 3\n",
    "class Point_type(enum.Enum):\n",
    "    start = 1\n",
    "    end = 2\n",
    "    joining = 3\n",
    "    dividing = 4\n",
    "    regular = 5\n",
    "\n",
    "def prepare_Points(points_series, side, classification):\n",
    "    return [Point(points_series[i], side[i], classification[i]) for i in range(len(points_series))]\n",
    "\n",
    "\n",
    "def check_if_inside(a, b, c, epsilon=1e-14):\n",
    "    \"\"\"Check if point c is inside the triangle formed by a and b.\"\"\"\n",
    "    d = det(a.pos, b.pos, c.pos)  # Determinant to check convexity\n",
    "    if c.side == Point_side.left:\n",
    "        return d < -epsilon\n",
    "    return d > epsilon\n",
    "\n",
    "\n",
    "def sides_equal(a, b):\n",
    "    \"\"\"Check if two points are on the same chain.\"\"\"\n",
    "    if a.side == Point_side.both or b.side == Point_side.both:\n",
    "        return True\n",
    "    return a.side == b.side\n",
    "\n",
    "\n",
    "def mark_sides(points_series, classification):\n",
    "    \"\"\"Mark points as belonging to the left or right chain.\"\"\"\n",
    "    side = [Point_side.right for _ in range(len(points_series))]\n",
    "    a = 0\n",
    "    while a < len(points_series) and classification[a] != Point_type.start:\n",
    "        a += 1\n",
    "    side[a] = Point_side.both\n",
    "    a += 1\n",
    "    while classification[a % len(points_series)] != Point_type.end:\n",
    "        side[a % len(points_series)] = Point_side.left\n",
    "        a += 1\n",
    "    side[a % len(points_series)] = Point_side.both\n",
    "    return side\n",
    "\n",
    "\n",
    "def put_triangle(result, a, b, c, lines, points, visualiser=None):\n",
    "    \"\"\"Add a triangle to the result.\"\"\"\n",
    "    t = [a.pos, b.pos, c.pos]\n",
    "    result.append(t)\n",
    "    if visualiser is not None:\n",
    "        visualiser.put_triangle(lines, points, result, t)\n",
    "\n",
    "\n",
    "def triangulation(lines, visualiser=None):\n",
    "    \"\"\"\n",
    "    Perform monotone polygon triangulation.\n",
    "\n",
    "    Args:\n",
    "        lines: The polygon represented as a list of edges.\n",
    "        visualiser: Optional visualiser for step-by-step visualization.\n",
    "\n",
    "    Returns:\n",
    "        A list of triangles, where each triangle is represented as a list of three points.\n",
    "    \"\"\"\n",
    "    points_series = lines_to_points_series(lines)\n",
    "    classification =  color_vertex(lines)\n",
    "\n",
    "    if visualiser is not None:\n",
    "        visualiser.put_scene(lines)\n",
    "\n",
    "    # Check if the polygon is monotone\n",
    "    if not is_y_monotonic(lines, classification):\n",
    "        return []\n",
    "\n",
    "    side = mark_sides(points_series, classification)\n",
    "    points = sorted(prepare_Points(points_series, side, classification))\n",
    "\n",
    "    stack = [points[0], points[1]]\n",
    "    i = 2\n",
    "    res = []\n",
    "\n",
    "    while i < len(points):\n",
    "        if not sides_equal(stack[-1], points[i]):\n",
    "            # Opposite chains: connect to all vertices in the stack\n",
    "            for k in range(len(stack) - 1, 0, -1):\n",
    "                put_triangle(res, stack[k], stack[k - 1], points[i], lines, points_series, visualiser)\n",
    "            stack = [stack[-1], points[i]]\n",
    "        else:\n",
    "            # Same chain: process stack to form valid triangles\n",
    "            new_stack = []\n",
    "            while len(stack) >= 2:\n",
    "                if check_if_inside(stack[-2], stack[-1], points[i]):\n",
    "                    put_triangle(res, stack[-2], stack[-1], points[i], lines, points_series, visualiser)\n",
    "                    stack.pop()\n",
    "                else:\n",
    "                    new_stack.append(stack.pop())\n",
    "            new_stack.append(stack.pop())\n",
    "            new_stack.reverse()\n",
    "            new_stack.append(points[i])\n",
    "            stack = new_stack\n",
    "\n",
    "        i += 1\n",
    "\n",
    "    if visualiser is not None:\n",
    "        visualiser.put_triangulation(lines, points_series, res)\n",
    "\n",
    "    return res\n"
   ]
  },
  {
   "cell_type": "code",
   "execution_count": null,
   "metadata": {},
   "outputs": [],
   "source": [
    "def triangulate_polygon(polygon):\n",
    "    n = len(polygon)\n",
    "    triangulation_result = []\n",
    "    \n",
    "    # The vertex with the largest y-coordinate is the starting point\n",
    "    max_index = get_max_index(polygon)\n",
    "    \n",
    "    # Assumes that the polygon is y-monotonic\n",
    "    events = build_table(polygon, max_index)\n",
    "    \n",
    "    stack = [0, 1]\n",
    "    \n",
    "    while len(stack) != 0:\n",
    "        next_v_i = next_p(stack[-1], len(stack))\n",
    "        next_v = events[next_v_i]\n",
    "        \n",
    "        if right[next_v] != right[events[stack[-1]]]:\n",
    "            for s in stack:\n",
    "                v_1 = events[s]\n",
    "                triangulation_result.append((v_1, next_v))\n",
    "            stack = [stack[-2], stack[-1]]\n",
    "        else:\n",
    "            # Additional logic for processing the same side of the polygon\n",
    "            pass\n",
    "    \n",
    "    # Unused code for handling states and helpers (commented out)\n",
    "    # states = []\n",
    "    # helpers = {}\n",
    "    # for i in range(len(events)):\n",
    "    #     v = events[i]\n",
    "    #     if colors[v] == 0:\n",
    "    #         e_l = (previous_p(v), v)\n",
    "    #         states.append(e_l)\n",
    "    #         helpers[e_l] = i\n",
    "    #     elif colors[v] == 1:\n",
    "    #         e_l = (previous_p(v), v)\n",
    "    #         v_h = helpers[e_l]\n",
    "    #         if colors[v_h] == 2:\n",
    "    #             triangulation_result.append((v, v_h))\n",
    "    #             # Delete e_l from states and helpers[e_l]\n",
    "    #     elif colors[v] == 4:\n",
    "    #         if right(polygon[previous_p(v)], polygon[v], polygon[next_p(v)]):\n",
    "    #             e_g = (v, previous_p(v, n))\n",
    "    #             e_d = (v, next_p(v, n))\n",
    "    #             if helpers[e_g] == 2:\n",
    "    #                 triangulation_result.append((helpers[e_g], v))\n",
    "    #                 # Delete e_g from states\n",
    "    #                 states.append(e_d)\n",
    "    #                 helpers[e_d] = v\n",
    "    #             else:\n",
    "    #                 pass  # Additional handling goes here\n",
    "\n",
    "    return triangulation_result\n"
   ]
  },
  {
   "cell_type": "code",
   "execution_count": null,
   "metadata": {},
   "outputs": [
    {
     "data": {
      "text/plain": [
       "('    return triangulation_result\\n',)"
      ]
     },
     "execution_count": 73,
     "metadata": {},
     "output_type": "execute_result"
    }
   ],
   "source": []
  },
  {
   "cell_type": "markdown",
   "metadata": {},
   "source": [
    "Jakich struktur można użyć do przechowywania wielokątu, oraz utworzonej triangulacji? Uzasadnij wybór struktury w swoim algorytmie"
   ]
  },
  {
   "cell_type": "markdown",
   "metadata": {},
   "source": [
    "ODPOWIEDŹ:\n",
    "\n",
    "Można do tego używać tablicy krotek. Dla triangulacji należy przechowywać 2 indeksy punktów, które są znalezioną przekątną"
   ]
  },
  {
   "cell_type": "markdown",
   "metadata": {},
   "source": [
    "Przeprowadź testy poprawności powyższej funkcji.\n"
   ]
  },
  {
   "cell_type": "code",
   "execution_count": 77,
   "metadata": {},
   "outputs": [
    {
     "name": "stdout",
     "output_type": "stream",
     "text": [
      "Lab 3, task 3:\n",
      "\tTest 1: WRONG ANSWER\n",
      "\t\tOutput:   [(3, 1), (4, 2), (4, 1), (5, 2), (5, 1), (0, 5), (0, 2)]\n",
      "\t\tExpected: [[0, 2], [0, 4], [0, 3]]\n",
      "\tTest 2: WRONG ANSWER\n",
      "\t\tOutput:   [(7, 1), (2, 7), (6, 2), (3, 6), (5, 3), (4, 3), (5, 4)]\n",
      "\t\tExpected: [[1, 7], [2, 7], [2, 6], [3, 6], [3, 5]]\n",
      "\tTest 3: WRONG ANSWER\n",
      "\t\tOutput:   [(1, 17), (16, 1), (2, 16), (15, 2), (3, 15), (14, 3), (4, 14), (13, 4), (5, 13), (12, 5), (6, 12), (11, 6), (7, 11), (8, 11), (10, 8), (10, 7), (9, 8), (10, 9)]\n",
      "\t\tExpected: [[1, 17], [16, 1], [16, 2], [2, 15], [3, 15], [3, 14], [4, 14], [13, 4], [5, 13], [12, 5], [6, 12], [11, 6], [7, 11], [8, 11], [10, 8]]\n",
      "\tTest 4: WRONG ANSWER\n",
      "\t\tOutput:   [(3, 5), (6, 3), (6, 4), (2, 6), (1, 6), (7, 1), (7, 2), (0, 7), (8, 0), (9, 8)]\n",
      "\t\tExpected: [[3, 5], [3, 6], [2, 6], [1, 6], [7, 1], [0, 7], [8, 0]]\n",
      "\tTest 5: WRONG ANSWER\n",
      "\t\tOutput:   [(1, 5), (4, 1), (2, 4), (3, 2)]\n",
      "\t\tExpected: [[1, 5], [4, 1], [2, 4]]\n",
      "\tTest 6: WRONG ANSWER\n",
      "\t\tOutput:   [(5, 7), (4, 6), (4, 7), (3, 6), (3, 7), (2, 6), (2, 7), (1, 6), (1, 7), (0, 6), (0, 7), (8, 6), (8, 7), (6, 8)]\n",
      "\t\tExpected: [[5, 7], [3, 5], [3, 7], [1, 3], [1, 7], [8, 1]]\n",
      "\tTest 7: WRONG ANSWER\n",
      "\t\tOutput:   [(3, 1), (4, 1), (0, 4), (0, 3), (5, 0), (6, 0), (7, 5), (7, 0), (8, 5), (8, 0), (9, 5), (9, 0), (10, 5), (10, 0), (11, 10), (11, 5)]\n",
      "\t\tExpected: [[3, 1], [0, 4], [0, 3], [5, 0], [0, 6], [7, 0], [9, 7], [0, 9], [11, 9]]\n",
      "\tTest 8: WRONG ANSWER\n",
      "\t\tOutput:   [(3, 5), (2, 4), (2, 5), (1, 4), (1, 5), (0, 4), (0, 5), (6, 4), (6, 5), (4, 6)]\n",
      "\t\tExpected: [[5, 3], [1, 3], [6, 1], [6, 3]]\n",
      "\tTest 9: WRONG ANSWER\n",
      "\t\tOutput:   [(1, 3), (0, 3), (1, 0)]\n",
      "\t\tExpected: [[1, 3]]\n",
      "\tTest 10: WRONG ANSWER\n",
      "\t\tOutput:   [(3, 1), (4, 2), (4, 1), (5, 2), (5, 1), (6, 2), (6, 1), (7, 2), (7, 1), (0, 7), (0, 2), (8, 7), (0, 8)]\n",
      "\t\tExpected: [[0, 7], [0, 6], [0, 5], [0, 4], [0, 2], [0, 3]]\n",
      "Result: 0/10\n",
      "Time: 0.000s\n"
     ]
    }
   ],
   "source": [
    "Test().runtest(3, triangulation)"
   ]
  },
  {
   "cell_type": "markdown",
   "metadata": {},
   "source": [
    "Zwizualizuj powstały wielokąt podzielony na trójkąty."
   ]
  },
  {
   "cell_type": "code",
   "execution_count": 75,
   "metadata": {},
   "outputs": [
    {
     "data": {
      "image/png": "[encoded data removed]",
      "text/plain": [
       "<Figure size 640x480 with 1 Axes>"
      ]
     },
     "metadata": {},
     "output_type": "display_data"
    }
   ],
   "source": [
    "tri = triangulation(polygon)\n",
    "draw_polygon_tri(polygon, [(polygon[x], polygon[y]) for (x, y) in tri])"
   ]
  },
  {
   "cell_type": "code",
   "execution_count": 82,
   "metadata": {},
   "outputs": [
    {
     "ename": "AttributeError",
     "evalue": "'Visualizer' object has no attribute 'get_scenes'",
     "output_type": "error",
     "traceback": [
      "\u001b[1;31m---------------------------------------------------------------------------\u001b[0m",
      "\u001b[1;31mAttributeError\u001b[0m                            Traceback (most recent call last)",
      "Cell \u001b[1;32mIn[82], line 2\u001b[0m\n\u001b[0;32m      1\u001b[0m visualizer \u001b[38;5;241m=\u001b[39m Visualizer()\n\u001b[1;32m----> 2\u001b[0m plot \u001b[38;5;241m=\u001b[39m Plot(\u001b[43mvisualizer\u001b[49m\u001b[38;5;241;43m.\u001b[39;49m\u001b[43mget_scenes\u001b[49m())\n\u001b[0;32m      3\u001b[0m plot\u001b[38;5;241m.\u001b[39mdraw()\n",
      "\u001b[1;31mAttributeError\u001b[0m: 'Visualizer' object has no attribute 'get_scenes'"
     ]
    }
   ],
   "source": [
    "visualizer = Visualizer()\n",
    "plot = Plot(visualizer.get_scenes())\n",
    "plot.draw()"
   ]
  },
  {
   "cell_type": "code",
   "execution_count": null,
   "metadata": {},
   "outputs": [],
   "source": []
  }
 ],
 "metadata": {
  "kernelspec": {
   "display_name": "Python 3",
   "language": "python",
   "name": "python3"
  },
  "language_info": {
   "codemirror_mode": {
    "name": "ipython",
    "version": 3
   },
   "file_extension": ".py",
   "mimetype": "text/x-python",
   "name": "python",
   "nbconvert_exporter": "python",
   "pygments_lexer": "ipython3",
   "version": "3.12.7"
  }
 },
 "nbformat": 4,
 "nbformat_minor": 2
}
